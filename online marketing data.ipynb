{
  "nbformat": 4,
  "nbformat_minor": 0,
  "metadata": {
    "colab": {
      "name": "Preject.ipynb",
      "provenance": [],
      "collapsed_sections": []
    },
    "kernelspec": {
      "name": "python3",
      "display_name": "Python 3"
    }
  },
  "cells": [
    {
      "cell_type": "code",
      "metadata": {
        "id": "WzUThAGX9IwJ",
        "colab_type": "code",
        "colab": {}
      },
      "source": [
        "import pandas as pd\n",
        "import numpy as np \n",
        "import seaborn as sns\n",
        "sns.set(style=\"whitegrid\");\n",
        "import matplotlib.pyplot as plt;"
      ],
      "execution_count": 0,
      "outputs": []
    },
    {
      "cell_type": "code",
      "metadata": {
        "id": "vYXaInzTOiAt",
        "colab_type": "code",
        "colab": {}
      },
      "source": [
        ""
      ],
      "execution_count": 0,
      "outputs": []
    },
    {
      "cell_type": "markdown",
      "metadata": {
        "id": "SqOEDLB0-How",
        "colab_type": "text"
      },
      "source": [
        "**users**\n",
        "\n",
        "*   **User ID**\n",
        "*   **Gender**\n",
        "*   **Date of birth - split into three columns Day Month and Year**\n",
        "*   **Location**\n",
        "\n"
      ]
    },
    {
      "cell_type": "code",
      "metadata": {
        "id": "b7KdpwtC9uxH",
        "colab_type": "code",
        "outputId": "088adfac-a82f-45e4-d189-c8988f2044ff",
        "colab": {
          "base_uri": "https://localhost:8080/",
          "height": 194
        }
      },
      "source": [
        "user = pd.read_csv('https://raw.githubusercontent.com/aaronmcdaid/P2---Data-Analytics-With-Python/master/Berlin/WS%202019/5.%20Datasets/preject_datasets/main.csv')\n",
        "user.head()"
      ],
      "execution_count": 0,
      "outputs": [
        {
          "output_type": "execute_result",
          "data": {
            "text/html": [
              "<div>\n",
              "<style scoped>\n",
              "    .dataframe tbody tr th:only-of-type {\n",
              "        vertical-align: middle;\n",
              "    }\n",
              "\n",
              "    .dataframe tbody tr th {\n",
              "        vertical-align: top;\n",
              "    }\n",
              "\n",
              "    .dataframe thead th {\n",
              "        text-align: right;\n",
              "    }\n",
              "</style>\n",
              "<table border=\"1\" class=\"dataframe\">\n",
              "  <thead>\n",
              "    <tr style=\"text-align: right;\">\n",
              "      <th></th>\n",
              "      <th>user_id</th>\n",
              "      <th>birth_day</th>\n",
              "      <th>birth_month</th>\n",
              "      <th>birth_year</th>\n",
              "      <th>location</th>\n",
              "      <th>gender</th>\n",
              "    </tr>\n",
              "  </thead>\n",
              "  <tbody>\n",
              "    <tr>\n",
              "      <th>0</th>\n",
              "      <td>1236805</td>\n",
              "      <td>26</td>\n",
              "      <td>2</td>\n",
              "      <td>1997</td>\n",
              "      <td>Los Angeles</td>\n",
              "      <td>M</td>\n",
              "    </tr>\n",
              "    <tr>\n",
              "      <th>1</th>\n",
              "      <td>2836384</td>\n",
              "      <td>13</td>\n",
              "      <td>2</td>\n",
              "      <td>1992</td>\n",
              "      <td>New York</td>\n",
              "      <td>M</td>\n",
              "    </tr>\n",
              "    <tr>\n",
              "      <th>2</th>\n",
              "      <td>5118289</td>\n",
              "      <td>28</td>\n",
              "      <td>2</td>\n",
              "      <td>1990</td>\n",
              "      <td>Rockville</td>\n",
              "      <td>F</td>\n",
              "    </tr>\n",
              "    <tr>\n",
              "      <th>3</th>\n",
              "      <td>2497066</td>\n",
              "      <td>12</td>\n",
              "      <td>2</td>\n",
              "      <td>2002</td>\n",
              "      <td>Middletown</td>\n",
              "      <td>M</td>\n",
              "    </tr>\n",
              "    <tr>\n",
              "      <th>4</th>\n",
              "      <td>2542664</td>\n",
              "      <td>5</td>\n",
              "      <td>2</td>\n",
              "      <td>1990</td>\n",
              "      <td>Weehawken</td>\n",
              "      <td>M</td>\n",
              "    </tr>\n",
              "  </tbody>\n",
              "</table>\n",
              "</div>"
            ],
            "text/plain": [
              "   user_id  birth_day  birth_month  birth_year     location gender\n",
              "0  1236805         26            2        1997  Los Angeles      M\n",
              "1  2836384         13            2        1992     New York      M\n",
              "2  5118289         28            2        1990    Rockville      F\n",
              "3  2497066         12            2        2002   Middletown      M\n",
              "4  2542664          5            2        1990    Weehawken      M"
            ]
          },
          "metadata": {
            "tags": []
          },
          "execution_count": 33
        }
      ]
    },
    {
      "cell_type": "code",
      "metadata": {
        "id": "DbRzN7G61EPN",
        "colab_type": "code",
        "outputId": "13f03e20-92ab-4943-9ee1-80cacbb66fe8",
        "colab": {
          "base_uri": "https://localhost:8080/",
          "height": 370
        }
      },
      "source": [
        "user.describe(include='all')"
      ],
      "execution_count": 0,
      "outputs": [
        {
          "output_type": "execute_result",
          "data": {
            "text/html": [
              "<div>\n",
              "<style scoped>\n",
              "    .dataframe tbody tr th:only-of-type {\n",
              "        vertical-align: middle;\n",
              "    }\n",
              "\n",
              "    .dataframe tbody tr th {\n",
              "        vertical-align: top;\n",
              "    }\n",
              "\n",
              "    .dataframe thead th {\n",
              "        text-align: right;\n",
              "    }\n",
              "</style>\n",
              "<table border=\"1\" class=\"dataframe\">\n",
              "  <thead>\n",
              "    <tr style=\"text-align: right;\">\n",
              "      <th></th>\n",
              "      <th>user_id</th>\n",
              "      <th>birth_day</th>\n",
              "      <th>birth_month</th>\n",
              "      <th>birth_year</th>\n",
              "      <th>location</th>\n",
              "      <th>gender</th>\n",
              "    </tr>\n",
              "  </thead>\n",
              "  <tbody>\n",
              "    <tr>\n",
              "      <th>count</th>\n",
              "      <td>5.000000e+04</td>\n",
              "      <td>50000.000000</td>\n",
              "      <td>50000.000000</td>\n",
              "      <td>50000.00000</td>\n",
              "      <td>49984</td>\n",
              "      <td>48979</td>\n",
              "    </tr>\n",
              "    <tr>\n",
              "      <th>unique</th>\n",
              "      <td>NaN</td>\n",
              "      <td>NaN</td>\n",
              "      <td>NaN</td>\n",
              "      <td>NaN</td>\n",
              "      <td>37</td>\n",
              "      <td>2</td>\n",
              "    </tr>\n",
              "    <tr>\n",
              "      <th>top</th>\n",
              "      <td>NaN</td>\n",
              "      <td>NaN</td>\n",
              "      <td>NaN</td>\n",
              "      <td>NaN</td>\n",
              "      <td>Philadelphia</td>\n",
              "      <td>M</td>\n",
              "    </tr>\n",
              "    <tr>\n",
              "      <th>freq</th>\n",
              "      <td>NaN</td>\n",
              "      <td>NaN</td>\n",
              "      <td>NaN</td>\n",
              "      <td>NaN</td>\n",
              "      <td>4247</td>\n",
              "      <td>39048</td>\n",
              "    </tr>\n",
              "    <tr>\n",
              "      <th>mean</th>\n",
              "      <td>5.005879e+06</td>\n",
              "      <td>15.725280</td>\n",
              "      <td>6.456920</td>\n",
              "      <td>1984.36304</td>\n",
              "      <td>NaN</td>\n",
              "      <td>NaN</td>\n",
              "    </tr>\n",
              "    <tr>\n",
              "      <th>std</th>\n",
              "      <td>2.864734e+06</td>\n",
              "      <td>8.753997</td>\n",
              "      <td>3.490213</td>\n",
              "      <td>11.74373</td>\n",
              "      <td>NaN</td>\n",
              "      <td>NaN</td>\n",
              "    </tr>\n",
              "    <tr>\n",
              "      <th>min</th>\n",
              "      <td>5.310100e+04</td>\n",
              "      <td>1.000000</td>\n",
              "      <td>1.000000</td>\n",
              "      <td>1945.00000</td>\n",
              "      <td>NaN</td>\n",
              "      <td>NaN</td>\n",
              "    </tr>\n",
              "    <tr>\n",
              "      <th>25%</th>\n",
              "      <td>2.523451e+06</td>\n",
              "      <td>8.000000</td>\n",
              "      <td>3.000000</td>\n",
              "      <td>1979.00000</td>\n",
              "      <td>NaN</td>\n",
              "      <td>NaN</td>\n",
              "    </tr>\n",
              "    <tr>\n",
              "      <th>50%</th>\n",
              "      <td>5.010928e+06</td>\n",
              "      <td>16.000000</td>\n",
              "      <td>6.000000</td>\n",
              "      <td>1987.00000</td>\n",
              "      <td>NaN</td>\n",
              "      <td>NaN</td>\n",
              "    </tr>\n",
              "    <tr>\n",
              "      <th>75%</th>\n",
              "      <td>7.470540e+06</td>\n",
              "      <td>23.000000</td>\n",
              "      <td>10.000000</td>\n",
              "      <td>1993.00000</td>\n",
              "      <td>NaN</td>\n",
              "      <td>NaN</td>\n",
              "    </tr>\n",
              "    <tr>\n",
              "      <th>max</th>\n",
              "      <td>9.999873e+06</td>\n",
              "      <td>31.000000</td>\n",
              "      <td>12.000000</td>\n",
              "      <td>2003.00000</td>\n",
              "      <td>NaN</td>\n",
              "      <td>NaN</td>\n",
              "    </tr>\n",
              "  </tbody>\n",
              "</table>\n",
              "</div>"
            ],
            "text/plain": [
              "             user_id     birth_day  ...      location  gender\n",
              "count   5.000000e+04  50000.000000  ...         49984   48979\n",
              "unique           NaN           NaN  ...            37       2\n",
              "top              NaN           NaN  ...  Philadelphia       M\n",
              "freq             NaN           NaN  ...          4247   39048\n",
              "mean    5.005879e+06     15.725280  ...           NaN     NaN\n",
              "std     2.864734e+06      8.753997  ...           NaN     NaN\n",
              "min     5.310100e+04      1.000000  ...           NaN     NaN\n",
              "25%     2.523451e+06      8.000000  ...           NaN     NaN\n",
              "50%     5.010928e+06     16.000000  ...           NaN     NaN\n",
              "75%     7.470540e+06     23.000000  ...           NaN     NaN\n",
              "max     9.999873e+06     31.000000  ...           NaN     NaN\n",
              "\n",
              "[11 rows x 6 columns]"
            ]
          },
          "metadata": {
            "tags": []
          },
          "execution_count": 34
        }
      ]
    },
    {
      "cell_type": "code",
      "metadata": {
        "id": "xffHSPXjYV60",
        "colab_type": "code",
        "outputId": "49afeeaf-2f33-48ba-e8a0-8028c4224862",
        "colab": {
          "base_uri": "https://localhost:8080/",
          "height": 194
        }
      },
      "source": [
        "#Calculating age and adding it to our DataFrame\n",
        "user['age'] = 2020 - user['birth_year']\n",
        "user.head()"
      ],
      "execution_count": 0,
      "outputs": [
        {
          "output_type": "execute_result",
          "data": {
            "text/html": [
              "<div>\n",
              "<style scoped>\n",
              "    .dataframe tbody tr th:only-of-type {\n",
              "        vertical-align: middle;\n",
              "    }\n",
              "\n",
              "    .dataframe tbody tr th {\n",
              "        vertical-align: top;\n",
              "    }\n",
              "\n",
              "    .dataframe thead th {\n",
              "        text-align: right;\n",
              "    }\n",
              "</style>\n",
              "<table border=\"1\" class=\"dataframe\">\n",
              "  <thead>\n",
              "    <tr style=\"text-align: right;\">\n",
              "      <th></th>\n",
              "      <th>user_id</th>\n",
              "      <th>birth_day</th>\n",
              "      <th>birth_month</th>\n",
              "      <th>birth_year</th>\n",
              "      <th>location</th>\n",
              "      <th>gender</th>\n",
              "      <th>age</th>\n",
              "    </tr>\n",
              "  </thead>\n",
              "  <tbody>\n",
              "    <tr>\n",
              "      <th>0</th>\n",
              "      <td>1236805</td>\n",
              "      <td>26</td>\n",
              "      <td>2</td>\n",
              "      <td>1997</td>\n",
              "      <td>Los Angeles</td>\n",
              "      <td>M</td>\n",
              "      <td>23</td>\n",
              "    </tr>\n",
              "    <tr>\n",
              "      <th>1</th>\n",
              "      <td>2836384</td>\n",
              "      <td>13</td>\n",
              "      <td>2</td>\n",
              "      <td>1992</td>\n",
              "      <td>New York</td>\n",
              "      <td>M</td>\n",
              "      <td>28</td>\n",
              "    </tr>\n",
              "    <tr>\n",
              "      <th>2</th>\n",
              "      <td>5118289</td>\n",
              "      <td>28</td>\n",
              "      <td>2</td>\n",
              "      <td>1990</td>\n",
              "      <td>Rockville</td>\n",
              "      <td>F</td>\n",
              "      <td>30</td>\n",
              "    </tr>\n",
              "    <tr>\n",
              "      <th>3</th>\n",
              "      <td>2497066</td>\n",
              "      <td>12</td>\n",
              "      <td>2</td>\n",
              "      <td>2002</td>\n",
              "      <td>Middletown</td>\n",
              "      <td>M</td>\n",
              "      <td>18</td>\n",
              "    </tr>\n",
              "    <tr>\n",
              "      <th>4</th>\n",
              "      <td>2542664</td>\n",
              "      <td>5</td>\n",
              "      <td>2</td>\n",
              "      <td>1990</td>\n",
              "      <td>Weehawken</td>\n",
              "      <td>M</td>\n",
              "      <td>30</td>\n",
              "    </tr>\n",
              "  </tbody>\n",
              "</table>\n",
              "</div>"
            ],
            "text/plain": [
              "   user_id  birth_day  birth_month  birth_year     location gender  age\n",
              "0  1236805         26            2        1997  Los Angeles      M   23\n",
              "1  2836384         13            2        1992     New York      M   28\n",
              "2  5118289         28            2        1990    Rockville      F   30\n",
              "3  2497066         12            2        2002   Middletown      M   18\n",
              "4  2542664          5            2        1990    Weehawken      M   30"
            ]
          },
          "metadata": {
            "tags": []
          },
          "execution_count": 35
        }
      ]
    },
    {
      "cell_type": "code",
      "metadata": {
        "id": "wgI7zDNRKnnH",
        "colab_type": "code",
        "outputId": "2c4f1374-fd7d-4283-c375-01e6598e0268",
        "colab": {
          "base_uri": "https://localhost:8080/",
          "height": 177
        }
      },
      "source": [
        "#Average user age information\n",
        "user['age'].describe()"
      ],
      "execution_count": 0,
      "outputs": [
        {
          "output_type": "execute_result",
          "data": {
            "text/plain": [
              "count    50000.00000\n",
              "mean        35.63696\n",
              "std         11.74373\n",
              "min         17.00000\n",
              "25%         27.00000\n",
              "50%         33.00000\n",
              "75%         41.00000\n",
              "max         75.00000\n",
              "Name: age, dtype: float64"
            ]
          },
          "metadata": {
            "tags": []
          },
          "execution_count": 36
        }
      ]
    },
    {
      "cell_type": "code",
      "metadata": {
        "id": "i8E6JvR5qwzY",
        "colab_type": "code",
        "outputId": "68bc948d-065c-4f36-f73b-66ebef213308",
        "colab": {
          "base_uri": "https://localhost:8080/",
          "height": 177
        }
      },
      "source": [
        "user['location'].unique()"
      ],
      "execution_count": 0,
      "outputs": [
        {
          "output_type": "execute_result",
          "data": {
            "text/plain": [
              "array(['Los Angeles', 'New York', 'Rockville', 'Middletown', 'Weehawken',\n",
              "       'Louisville', 'Cockeysville', 'Ocala', 'Arcadia', 'Lake Forest',\n",
              "       'Lawrence Township', 'Bartow', 'Columbus', 'Philadelphia',\n",
              "       'Rochester', 'Abington', 'Indianapolis', 'Voorhees',\n",
              "       'White Plains', 'Colorado Springs', 'Vernon Rockville', 'Weirton',\n",
              "       'Clearwater', 'Phoenix', 'East Granby', 'Yucaipa', 'Fairfield',\n",
              "       'Windsor Mill', 'Charleston', 'Clifton Park', 'Greensboro',\n",
              "       'Pittsburgh', 'Denver', 'Wyckoff', 'Seattle', 'Houston',\n",
              "       'Peoria Heights', nan], dtype=object)"
            ]
          },
          "metadata": {
            "tags": []
          },
          "execution_count": 37
        }
      ]
    },
    {
      "cell_type": "markdown",
      "metadata": {
        "id": "IY2jv2Wm-RUW",
        "colab_type": "text"
      },
      "source": [
        "**Product:**\n",
        "*  **Product** \n",
        "*  **Intervals purchased so far**\n",
        "*  **Purchase date** \n",
        "*  **Voucher (percentage of reduction)** "
      ]
    },
    {
      "cell_type": "code",
      "metadata": {
        "id": "_09hzQoL9yIa",
        "colab_type": "code",
        "outputId": "64c243c0-4bfc-427f-fd50-8e713ce1e9f9",
        "colab": {
          "base_uri": "https://localhost:8080/",
          "height": 194
        }
      },
      "source": [
        "product = pd.read_csv('https://raw.githubusercontent.com/aaronmcdaid/P2---Data-Analytics-With-Python/master/Berlin/WS%202019/5.%20Datasets/preject_datasets/product.csv')\n",
        "product.head()"
      ],
      "execution_count": 0,
      "outputs": [
        {
          "output_type": "execute_result",
          "data": {
            "text/html": [
              "<div>\n",
              "<style scoped>\n",
              "    .dataframe tbody tr th:only-of-type {\n",
              "        vertical-align: middle;\n",
              "    }\n",
              "\n",
              "    .dataframe tbody tr th {\n",
              "        vertical-align: top;\n",
              "    }\n",
              "\n",
              "    .dataframe thead th {\n",
              "        text-align: right;\n",
              "    }\n",
              "</style>\n",
              "<table border=\"1\" class=\"dataframe\">\n",
              "  <thead>\n",
              "    <tr style=\"text-align: right;\">\n",
              "      <th></th>\n",
              "      <th>user_id</th>\n",
              "      <th>product</th>\n",
              "      <th>intervals</th>\n",
              "      <th>purchase_date</th>\n",
              "      <th>voucher</th>\n",
              "    </tr>\n",
              "  </thead>\n",
              "  <tbody>\n",
              "    <tr>\n",
              "      <th>0</th>\n",
              "      <td>1236805</td>\n",
              "      <td>12M</td>\n",
              "      <td>1</td>\n",
              "      <td>11/7/2018 13:22</td>\n",
              "      <td>50.0</td>\n",
              "    </tr>\n",
              "    <tr>\n",
              "      <th>1</th>\n",
              "      <td>2836384</td>\n",
              "      <td>6M</td>\n",
              "      <td>1</td>\n",
              "      <td>5/12/2018 11:29</td>\n",
              "      <td>NaN</td>\n",
              "    </tr>\n",
              "    <tr>\n",
              "      <th>2</th>\n",
              "      <td>5118289</td>\n",
              "      <td>3M</td>\n",
              "      <td>3</td>\n",
              "      <td>5/31/2018 12:50</td>\n",
              "      <td>NaN</td>\n",
              "    </tr>\n",
              "    <tr>\n",
              "      <th>3</th>\n",
              "      <td>2497066</td>\n",
              "      <td>3M</td>\n",
              "      <td>5</td>\n",
              "      <td>11/16/2018 15:58</td>\n",
              "      <td>NaN</td>\n",
              "    </tr>\n",
              "    <tr>\n",
              "      <th>4</th>\n",
              "      <td>2542664</td>\n",
              "      <td>3M</td>\n",
              "      <td>7</td>\n",
              "      <td>12/6/2018 12:26</td>\n",
              "      <td>50.0</td>\n",
              "    </tr>\n",
              "  </tbody>\n",
              "</table>\n",
              "</div>"
            ],
            "text/plain": [
              "   user_id product  intervals     purchase_date  voucher\n",
              "0  1236805     12M          1   11/7/2018 13:22     50.0\n",
              "1  2836384      6M          1   5/12/2018 11:29      NaN\n",
              "2  5118289      3M          3   5/31/2018 12:50      NaN\n",
              "3  2497066      3M          5  11/16/2018 15:58      NaN\n",
              "4  2542664      3M          7   12/6/2018 12:26     50.0"
            ]
          },
          "metadata": {
            "tags": []
          },
          "execution_count": 38
        }
      ]
    },
    {
      "cell_type": "code",
      "metadata": {
        "id": "bmgqzt1e1GS3",
        "colab_type": "code",
        "outputId": "c688a3b2-768c-4391-a083-d21e22a77468",
        "colab": {
          "base_uri": "https://localhost:8080/",
          "height": 370
        }
      },
      "source": [
        "product.describe(include='all')"
      ],
      "execution_count": 0,
      "outputs": [
        {
          "output_type": "execute_result",
          "data": {
            "text/html": [
              "<div>\n",
              "<style scoped>\n",
              "    .dataframe tbody tr th:only-of-type {\n",
              "        vertical-align: middle;\n",
              "    }\n",
              "\n",
              "    .dataframe tbody tr th {\n",
              "        vertical-align: top;\n",
              "    }\n",
              "\n",
              "    .dataframe thead th {\n",
              "        text-align: right;\n",
              "    }\n",
              "</style>\n",
              "<table border=\"1\" class=\"dataframe\">\n",
              "  <thead>\n",
              "    <tr style=\"text-align: right;\">\n",
              "      <th></th>\n",
              "      <th>user_id</th>\n",
              "      <th>product</th>\n",
              "      <th>intervals</th>\n",
              "      <th>purchase_date</th>\n",
              "      <th>voucher</th>\n",
              "    </tr>\n",
              "  </thead>\n",
              "  <tbody>\n",
              "    <tr>\n",
              "      <th>count</th>\n",
              "      <td>5.000000e+04</td>\n",
              "      <td>50000</td>\n",
              "      <td>50000.000000</td>\n",
              "      <td>50000</td>\n",
              "      <td>33165.000000</td>\n",
              "    </tr>\n",
              "    <tr>\n",
              "      <th>unique</th>\n",
              "      <td>NaN</td>\n",
              "      <td>4</td>\n",
              "      <td>NaN</td>\n",
              "      <td>13325</td>\n",
              "      <td>NaN</td>\n",
              "    </tr>\n",
              "    <tr>\n",
              "      <th>top</th>\n",
              "      <td>NaN</td>\n",
              "      <td>3M</td>\n",
              "      <td>NaN</td>\n",
              "      <td>10/31/2018 14:41</td>\n",
              "      <td>NaN</td>\n",
              "    </tr>\n",
              "    <tr>\n",
              "      <th>freq</th>\n",
              "      <td>NaN</td>\n",
              "      <td>19103</td>\n",
              "      <td>NaN</td>\n",
              "      <td>109</td>\n",
              "      <td>NaN</td>\n",
              "    </tr>\n",
              "    <tr>\n",
              "      <th>mean</th>\n",
              "      <td>5.005879e+06</td>\n",
              "      <td>NaN</td>\n",
              "      <td>2.451180</td>\n",
              "      <td>NaN</td>\n",
              "      <td>38.163727</td>\n",
              "    </tr>\n",
              "    <tr>\n",
              "      <th>std</th>\n",
              "      <td>2.864734e+06</td>\n",
              "      <td>NaN</td>\n",
              "      <td>2.353331</td>\n",
              "      <td>NaN</td>\n",
              "      <td>12.917227</td>\n",
              "    </tr>\n",
              "    <tr>\n",
              "      <th>min</th>\n",
              "      <td>5.310100e+04</td>\n",
              "      <td>NaN</td>\n",
              "      <td>1.000000</td>\n",
              "      <td>NaN</td>\n",
              "      <td>20.000000</td>\n",
              "    </tr>\n",
              "    <tr>\n",
              "      <th>25%</th>\n",
              "      <td>2.523451e+06</td>\n",
              "      <td>NaN</td>\n",
              "      <td>1.000000</td>\n",
              "      <td>NaN</td>\n",
              "      <td>30.000000</td>\n",
              "    </tr>\n",
              "    <tr>\n",
              "      <th>50%</th>\n",
              "      <td>5.010928e+06</td>\n",
              "      <td>NaN</td>\n",
              "      <td>1.000000</td>\n",
              "      <td>NaN</td>\n",
              "      <td>50.000000</td>\n",
              "    </tr>\n",
              "    <tr>\n",
              "      <th>75%</th>\n",
              "      <td>7.470540e+06</td>\n",
              "      <td>NaN</td>\n",
              "      <td>3.000000</td>\n",
              "      <td>NaN</td>\n",
              "      <td>50.000000</td>\n",
              "    </tr>\n",
              "    <tr>\n",
              "      <th>max</th>\n",
              "      <td>9.999873e+06</td>\n",
              "      <td>NaN</td>\n",
              "      <td>16.000000</td>\n",
              "      <td>NaN</td>\n",
              "      <td>50.000000</td>\n",
              "    </tr>\n",
              "  </tbody>\n",
              "</table>\n",
              "</div>"
            ],
            "text/plain": [
              "             user_id product     intervals     purchase_date       voucher\n",
              "count   5.000000e+04   50000  50000.000000             50000  33165.000000\n",
              "unique           NaN       4           NaN             13325           NaN\n",
              "top              NaN      3M           NaN  10/31/2018 14:41           NaN\n",
              "freq             NaN   19103           NaN               109           NaN\n",
              "mean    5.005879e+06     NaN      2.451180               NaN     38.163727\n",
              "std     2.864734e+06     NaN      2.353331               NaN     12.917227\n",
              "min     5.310100e+04     NaN      1.000000               NaN     20.000000\n",
              "25%     2.523451e+06     NaN      1.000000               NaN     30.000000\n",
              "50%     5.010928e+06     NaN      1.000000               NaN     50.000000\n",
              "75%     7.470540e+06     NaN      3.000000               NaN     50.000000\n",
              "max     9.999873e+06     NaN     16.000000               NaN     50.000000"
            ]
          },
          "metadata": {
            "tags": []
          },
          "execution_count": 39
        }
      ]
    },
    {
      "cell_type": "markdown",
      "metadata": {
        "id": "o5Ax7VQh-eNi",
        "colab_type": "text"
      },
      "source": [
        "\n",
        "**User attribution channel:**\n",
        "*   **User ID**\n",
        "*   **Attribution Channel**\n",
        "\n",
        "\n"
      ]
    },
    {
      "cell_type": "code",
      "metadata": {
        "id": "ceMgjolQ925T",
        "colab_type": "code",
        "outputId": "76c77d56-7d87-4978-f100-aa6e4f212082",
        "colab": {
          "base_uri": "https://localhost:8080/",
          "height": 194
        }
      },
      "source": [
        "user_attribution = pd.read_csv('https://raw.githubusercontent.com/aaronmcdaid/P2---Data-Analytics-With-Python/master/Berlin/WS%202019/5.%20Datasets/preject_datasets/attribution.csv')\n",
        "user_attribution.head()"
      ],
      "execution_count": 0,
      "outputs": [
        {
          "output_type": "execute_result",
          "data": {
            "text/html": [
              "<div>\n",
              "<style scoped>\n",
              "    .dataframe tbody tr th:only-of-type {\n",
              "        vertical-align: middle;\n",
              "    }\n",
              "\n",
              "    .dataframe tbody tr th {\n",
              "        vertical-align: top;\n",
              "    }\n",
              "\n",
              "    .dataframe thead th {\n",
              "        text-align: right;\n",
              "    }\n",
              "</style>\n",
              "<table border=\"1\" class=\"dataframe\">\n",
              "  <thead>\n",
              "    <tr style=\"text-align: right;\">\n",
              "      <th></th>\n",
              "      <th>user_id</th>\n",
              "      <th>attribution</th>\n",
              "    </tr>\n",
              "  </thead>\n",
              "  <tbody>\n",
              "    <tr>\n",
              "      <th>0</th>\n",
              "      <td>1236805</td>\n",
              "      <td>Instagram</td>\n",
              "    </tr>\n",
              "    <tr>\n",
              "      <th>1</th>\n",
              "      <td>2836384</td>\n",
              "      <td>Partner</td>\n",
              "    </tr>\n",
              "    <tr>\n",
              "      <th>2</th>\n",
              "      <td>5118289</td>\n",
              "      <td>Partner</td>\n",
              "    </tr>\n",
              "    <tr>\n",
              "      <th>3</th>\n",
              "      <td>2497066</td>\n",
              "      <td>Facebook</td>\n",
              "    </tr>\n",
              "    <tr>\n",
              "      <th>4</th>\n",
              "      <td>2542664</td>\n",
              "      <td>Facebook</td>\n",
              "    </tr>\n",
              "  </tbody>\n",
              "</table>\n",
              "</div>"
            ],
            "text/plain": [
              "   user_id attribution\n",
              "0  1236805   Instagram\n",
              "1  2836384     Partner\n",
              "2  5118289     Partner\n",
              "3  2497066    Facebook\n",
              "4  2542664    Facebook"
            ]
          },
          "metadata": {
            "tags": []
          },
          "execution_count": 40
        }
      ]
    },
    {
      "cell_type": "code",
      "metadata": {
        "id": "7I9fe-JXMcU0",
        "colab_type": "code",
        "outputId": "332985ec-1ec6-4004-c1e0-9f4fb1391164",
        "colab": {
          "base_uri": "https://localhost:8080/",
          "height": 52
        }
      },
      "source": [
        "user_attribution.attribution.unique()"
      ],
      "execution_count": 0,
      "outputs": [
        {
          "output_type": "execute_result",
          "data": {
            "text/plain": [
              "array(['Instagram', 'Partner', 'Facebook', 'Friends Referral Program',\n",
              "       'Adwords', 'Criteo', 'TV'], dtype=object)"
            ]
          },
          "metadata": {
            "tags": []
          },
          "execution_count": 41
        }
      ]
    },
    {
      "cell_type": "markdown",
      "metadata": {
        "id": "67W7tV7JAWQM",
        "colab_type": "text"
      },
      "source": [
        "**User article:**\n",
        "\n",
        "*   **Datetime**\n",
        "*   **Liked - binary (0-no,1-yes)**\n",
        "*   **Article info - list containing-  article category (1-7), article id**\n",
        "*   **reading length in minutes**\n",
        "*   **User_id**\n"
      ]
    },
    {
      "cell_type": "code",
      "metadata": {
        "id": "BK8FyHeF96Oj",
        "colab_type": "code",
        "outputId": "fdf079a2-a7b0-466a-bd74-88653a94a786",
        "colab": {
          "base_uri": "https://localhost:8080/",
          "height": 194
        }
      },
      "source": [
        "user_article = pd.read_csv('https://raw.githubusercontent.com/aaronmcdaid/P2---Data-Analytics-With-Python/master/Berlin/WS%202019/5.%20Datasets/preject_datasets/user_article.csv')\n",
        "user_article.head()"
      ],
      "execution_count": 0,
      "outputs": [
        {
          "output_type": "execute_result",
          "data": {
            "text/html": [
              "<div>\n",
              "<style scoped>\n",
              "    .dataframe tbody tr th:only-of-type {\n",
              "        vertical-align: middle;\n",
              "    }\n",
              "\n",
              "    .dataframe tbody tr th {\n",
              "        vertical-align: top;\n",
              "    }\n",
              "\n",
              "    .dataframe thead th {\n",
              "        text-align: right;\n",
              "    }\n",
              "</style>\n",
              "<table border=\"1\" class=\"dataframe\">\n",
              "  <thead>\n",
              "    <tr style=\"text-align: right;\">\n",
              "      <th></th>\n",
              "      <th>datetime</th>\n",
              "      <th>liked</th>\n",
              "      <th>user_id</th>\n",
              "      <th>article_info</th>\n",
              "    </tr>\n",
              "  </thead>\n",
              "  <tbody>\n",
              "    <tr>\n",
              "      <th>0</th>\n",
              "      <td>2018-11-19 7:1</td>\n",
              "      <td>1</td>\n",
              "      <td>744391</td>\n",
              "      <td>[5, 51898, 9]</td>\n",
              "    </tr>\n",
              "    <tr>\n",
              "      <th>1</th>\n",
              "      <td>2018-9-25 13:54</td>\n",
              "      <td>1</td>\n",
              "      <td>3069240</td>\n",
              "      <td>[5, 52508, 18]</td>\n",
              "    </tr>\n",
              "    <tr>\n",
              "      <th>2</th>\n",
              "      <td>2018-9-15 7:58</td>\n",
              "      <td>1</td>\n",
              "      <td>4176029</td>\n",
              "      <td>[2, 28993, 21]</td>\n",
              "    </tr>\n",
              "    <tr>\n",
              "      <th>3</th>\n",
              "      <td>2018-9-19 18:4</td>\n",
              "      <td>1</td>\n",
              "      <td>2051762</td>\n",
              "      <td>[3, 36094, 17]</td>\n",
              "    </tr>\n",
              "    <tr>\n",
              "      <th>4</th>\n",
              "      <td>2018-10-14 18:39</td>\n",
              "      <td>1</td>\n",
              "      <td>2265406</td>\n",
              "      <td>[5, 51798, 19]</td>\n",
              "    </tr>\n",
              "  </tbody>\n",
              "</table>\n",
              "</div>"
            ],
            "text/plain": [
              "           datetime  liked  user_id    article_info\n",
              "0    2018-11-19 7:1      1   744391   [5, 51898, 9]\n",
              "1   2018-9-25 13:54      1  3069240  [5, 52508, 18]\n",
              "2    2018-9-15 7:58      1  4176029  [2, 28993, 21]\n",
              "3    2018-9-19 18:4      1  2051762  [3, 36094, 17]\n",
              "4  2018-10-14 18:39      1  2265406  [5, 51798, 19]"
            ]
          },
          "metadata": {
            "tags": []
          },
          "execution_count": 42
        }
      ]
    },
    {
      "cell_type": "code",
      "metadata": {
        "id": "QeN2cSZjxxxy",
        "colab_type": "code",
        "outputId": "7cfadc7a-420c-4fb0-d3f9-c04c4f3be935",
        "colab": {
          "base_uri": "https://localhost:8080/",
          "height": 370
        }
      },
      "source": [
        "user_article.describe(include='all')"
      ],
      "execution_count": 0,
      "outputs": [
        {
          "output_type": "execute_result",
          "data": {
            "text/html": [
              "<div>\n",
              "<style scoped>\n",
              "    .dataframe tbody tr th:only-of-type {\n",
              "        vertical-align: middle;\n",
              "    }\n",
              "\n",
              "    .dataframe tbody tr th {\n",
              "        vertical-align: top;\n",
              "    }\n",
              "\n",
              "    .dataframe thead th {\n",
              "        text-align: right;\n",
              "    }\n",
              "</style>\n",
              "<table border=\"1\" class=\"dataframe\">\n",
              "  <thead>\n",
              "    <tr style=\"text-align: right;\">\n",
              "      <th></th>\n",
              "      <th>datetime</th>\n",
              "      <th>liked</th>\n",
              "      <th>user_id</th>\n",
              "      <th>article_info</th>\n",
              "    </tr>\n",
              "  </thead>\n",
              "  <tbody>\n",
              "    <tr>\n",
              "      <th>count</th>\n",
              "      <td>985274</td>\n",
              "      <td>985274.000000</td>\n",
              "      <td>9.852740e+05</td>\n",
              "      <td>985274</td>\n",
              "    </tr>\n",
              "    <tr>\n",
              "      <th>unique</th>\n",
              "      <td>699</td>\n",
              "      <td>NaN</td>\n",
              "      <td>NaN</td>\n",
              "      <td>819</td>\n",
              "    </tr>\n",
              "    <tr>\n",
              "      <th>top</th>\n",
              "      <td>2018-11-19 9:31</td>\n",
              "      <td>NaN</td>\n",
              "      <td>NaN</td>\n",
              "      <td>[1, 11757, 17]</td>\n",
              "    </tr>\n",
              "    <tr>\n",
              "      <th>freq</th>\n",
              "      <td>2849</td>\n",
              "      <td>NaN</td>\n",
              "      <td>NaN</td>\n",
              "      <td>1299</td>\n",
              "    </tr>\n",
              "    <tr>\n",
              "      <th>mean</th>\n",
              "      <td>NaN</td>\n",
              "      <td>0.600586</td>\n",
              "      <td>5.010908e+06</td>\n",
              "      <td>NaN</td>\n",
              "    </tr>\n",
              "    <tr>\n",
              "      <th>std</th>\n",
              "      <td>NaN</td>\n",
              "      <td>0.489778</td>\n",
              "      <td>2.876408e+06</td>\n",
              "      <td>NaN</td>\n",
              "    </tr>\n",
              "    <tr>\n",
              "      <th>min</th>\n",
              "      <td>NaN</td>\n",
              "      <td>0.000000</td>\n",
              "      <td>5.310100e+04</td>\n",
              "      <td>NaN</td>\n",
              "    </tr>\n",
              "    <tr>\n",
              "      <th>25%</th>\n",
              "      <td>NaN</td>\n",
              "      <td>0.000000</td>\n",
              "      <td>2.513573e+06</td>\n",
              "      <td>NaN</td>\n",
              "    </tr>\n",
              "    <tr>\n",
              "      <th>50%</th>\n",
              "      <td>NaN</td>\n",
              "      <td>1.000000</td>\n",
              "      <td>5.012648e+06</td>\n",
              "      <td>NaN</td>\n",
              "    </tr>\n",
              "    <tr>\n",
              "      <th>75%</th>\n",
              "      <td>NaN</td>\n",
              "      <td>1.000000</td>\n",
              "      <td>7.498395e+06</td>\n",
              "      <td>NaN</td>\n",
              "    </tr>\n",
              "    <tr>\n",
              "      <th>max</th>\n",
              "      <td>NaN</td>\n",
              "      <td>1.000000</td>\n",
              "      <td>9.999762e+06</td>\n",
              "      <td>NaN</td>\n",
              "    </tr>\n",
              "  </tbody>\n",
              "</table>\n",
              "</div>"
            ],
            "text/plain": [
              "               datetime          liked       user_id    article_info\n",
              "count            985274  985274.000000  9.852740e+05          985274\n",
              "unique              699            NaN           NaN             819\n",
              "top     2018-11-19 9:31            NaN           NaN  [1, 11757, 17]\n",
              "freq               2849            NaN           NaN            1299\n",
              "mean                NaN       0.600586  5.010908e+06             NaN\n",
              "std                 NaN       0.489778  2.876408e+06             NaN\n",
              "min                 NaN       0.000000  5.310100e+04             NaN\n",
              "25%                 NaN       0.000000  2.513573e+06             NaN\n",
              "50%                 NaN       1.000000  5.012648e+06             NaN\n",
              "75%                 NaN       1.000000  7.498395e+06             NaN\n",
              "max                 NaN       1.000000  9.999762e+06             NaN"
            ]
          },
          "metadata": {
            "tags": []
          },
          "execution_count": 43
        }
      ]
    },
    {
      "cell_type": "code",
      "metadata": {
        "id": "pJ5tnLNj6Q22",
        "colab_type": "code",
        "colab": {}
      },
      "source": [
        ""
      ],
      "execution_count": 0,
      "outputs": []
    },
    {
      "cell_type": "markdown",
      "metadata": {
        "id": "KqUncW_B4OSS",
        "colab_type": "text"
      },
      "source": [
        "**Question 1** \n",
        " \n",
        " **Who are our customers?**\n",
        " **(gender, age, where from?)**"
      ]
    },
    {
      "cell_type": "markdown",
      "metadata": {
        "id": "Dzz3djw59oJK",
        "colab_type": "text"
      },
      "source": [
        "Gender based customer classifcation"
      ]
    },
    {
      "cell_type": "code",
      "metadata": {
        "id": "MgI5iybH-wGb",
        "colab_type": "code",
        "outputId": "56697235-6a91-4a8e-e6bc-1d65a287c94c",
        "colab": {
          "base_uri": "https://localhost:8080/",
          "height": 135
        }
      },
      "source": [
        "user.groupby('gender')['age'].agg(['count','min','max','mean','median','std'])"
      ],
      "execution_count": 0,
      "outputs": [
        {
          "output_type": "execute_result",
          "data": {
            "text/html": [
              "<div>\n",
              "<style scoped>\n",
              "    .dataframe tbody tr th:only-of-type {\n",
              "        vertical-align: middle;\n",
              "    }\n",
              "\n",
              "    .dataframe tbody tr th {\n",
              "        vertical-align: top;\n",
              "    }\n",
              "\n",
              "    .dataframe thead th {\n",
              "        text-align: right;\n",
              "    }\n",
              "</style>\n",
              "<table border=\"1\" class=\"dataframe\">\n",
              "  <thead>\n",
              "    <tr style=\"text-align: right;\">\n",
              "      <th></th>\n",
              "      <th>count</th>\n",
              "      <th>min</th>\n",
              "      <th>max</th>\n",
              "      <th>mean</th>\n",
              "      <th>median</th>\n",
              "      <th>std</th>\n",
              "    </tr>\n",
              "    <tr>\n",
              "      <th>gender</th>\n",
              "      <th></th>\n",
              "      <th></th>\n",
              "      <th></th>\n",
              "      <th></th>\n",
              "      <th></th>\n",
              "      <th></th>\n",
              "    </tr>\n",
              "  </thead>\n",
              "  <tbody>\n",
              "    <tr>\n",
              "      <th>F</th>\n",
              "      <td>9931</td>\n",
              "      <td>17</td>\n",
              "      <td>75</td>\n",
              "      <td>35.751284</td>\n",
              "      <td>33</td>\n",
              "      <td>11.718800</td>\n",
              "    </tr>\n",
              "    <tr>\n",
              "      <th>M</th>\n",
              "      <td>39048</td>\n",
              "      <td>17</td>\n",
              "      <td>75</td>\n",
              "      <td>35.610992</td>\n",
              "      <td>33</td>\n",
              "      <td>11.748584</td>\n",
              "    </tr>\n",
              "  </tbody>\n",
              "</table>\n",
              "</div>"
            ],
            "text/plain": [
              "        count  min  max       mean  median        std\n",
              "gender                                               \n",
              "F        9931   17   75  35.751284      33  11.718800\n",
              "M       39048   17   75  35.610992      33  11.748584"
            ]
          },
          "metadata": {
            "tags": []
          },
          "execution_count": 44
        }
      ]
    },
    {
      "cell_type": "code",
      "metadata": {
        "id": "RwOzod363dKg",
        "colab_type": "code",
        "outputId": "448008a7-a68c-476c-bee2-e3e554d6f4da",
        "colab": {
          "base_uri": "https://localhost:8080/",
          "height": 285
        }
      },
      "source": [
        "sns.countplot(user.gender);"
      ],
      "execution_count": 0,
      "outputs": [
        {
          "output_type": "display_data",
          "data": {
            "image/png": "[encoded data removed]",
            "text/plain": [
              "<Figure size 432x288 with 1 Axes>"
            ]
          },
          "metadata": {
            "tags": []
          }
        }
      ]
    },
    {
      "cell_type": "code",
      "metadata": {
        "id": "3do2tsFv9vCP",
        "colab_type": "code",
        "outputId": "aae01cd4-2029-4e66-83f1-a400a43a3ce5",
        "colab": {
          "base_uri": "https://localhost:8080/",
          "height": 490
        }
      },
      "source": [
        "plt.figure(figsize=(7,7))\n",
        "sns.boxplot(y ='age', x = 'gender' , data = user)\n",
        "plt.title('Customer Age-group', fontsize=15, fontweight=\"bold\");\n",
        "plt.text(s=' Averege customer is Male & Female in age group: 24-46', x = -0.5, y = 4.5, fontsize = 15);"
      ],
      "execution_count": 0,
      "outputs": [
        {
          "output_type": "display_data",
          "data": {
            "image/png": "[encoded data removed]",
            "text/plain": [
              "<Figure size 504x504 with 1 Axes>"
            ]
          },
          "metadata": {
            "tags": []
          }
        }
      ]
    },
    {
      "cell_type": "code",
      "metadata": {
        "id": "kx7OS2mCW7QO",
        "colab_type": "code",
        "outputId": "de09fd7d-aa25-428f-c1dc-50f50d8f9f7e",
        "colab": {
          "base_uri": "https://localhost:8080/",
          "height": 194
        }
      },
      "source": [
        "user_product = product.merge(user, on = 'user_id')\n",
        "user_product.head() \n"
      ],
      "execution_count": 0,
      "outputs": [
        {
          "output_type": "execute_result",
          "data": {
            "text/html": [
              "<div>\n",
              "<style scoped>\n",
              "    .dataframe tbody tr th:only-of-type {\n",
              "        vertical-align: middle;\n",
              "    }\n",
              "\n",
              "    .dataframe tbody tr th {\n",
              "        vertical-align: top;\n",
              "    }\n",
              "\n",
              "    .dataframe thead th {\n",
              "        text-align: right;\n",
              "    }\n",
              "</style>\n",
              "<table border=\"1\" class=\"dataframe\">\n",
              "  <thead>\n",
              "    <tr style=\"text-align: right;\">\n",
              "      <th></th>\n",
              "      <th>user_id</th>\n",
              "      <th>product</th>\n",
              "      <th>intervals</th>\n",
              "      <th>purchase_date</th>\n",
              "      <th>voucher</th>\n",
              "      <th>birth_day</th>\n",
              "      <th>birth_month</th>\n",
              "      <th>birth_year</th>\n",
              "      <th>location</th>\n",
              "      <th>gender</th>\n",
              "      <th>age</th>\n",
              "    </tr>\n",
              "  </thead>\n",
              "  <tbody>\n",
              "    <tr>\n",
              "      <th>0</th>\n",
              "      <td>1236805</td>\n",
              "      <td>12M</td>\n",
              "      <td>1</td>\n",
              "      <td>11/7/2018 13:22</td>\n",
              "      <td>50.0</td>\n",
              "      <td>26</td>\n",
              "      <td>2</td>\n",
              "      <td>1997</td>\n",
              "      <td>Los Angeles</td>\n",
              "      <td>M</td>\n",
              "      <td>23</td>\n",
              "    </tr>\n",
              "    <tr>\n",
              "      <th>1</th>\n",
              "      <td>2836384</td>\n",
              "      <td>6M</td>\n",
              "      <td>1</td>\n",
              "      <td>5/12/2018 11:29</td>\n",
              "      <td>NaN</td>\n",
              "      <td>13</td>\n",
              "      <td>2</td>\n",
              "      <td>1992</td>\n",
              "      <td>New York</td>\n",
              "      <td>M</td>\n",
              "      <td>28</td>\n",
              "    </tr>\n",
              "    <tr>\n",
              "      <th>2</th>\n",
              "      <td>5118289</td>\n",
              "      <td>3M</td>\n",
              "      <td>3</td>\n",
              "      <td>5/31/2018 12:50</td>\n",
              "      <td>NaN</td>\n",
              "      <td>28</td>\n",
              "      <td>2</td>\n",
              "      <td>1990</td>\n",
              "      <td>Rockville</td>\n",
              "      <td>F</td>\n",
              "      <td>30</td>\n",
              "    </tr>\n",
              "    <tr>\n",
              "      <th>3</th>\n",
              "      <td>2497066</td>\n",
              "      <td>3M</td>\n",
              "      <td>5</td>\n",
              "      <td>11/16/2018 15:58</td>\n",
              "      <td>NaN</td>\n",
              "      <td>12</td>\n",
              "      <td>2</td>\n",
              "      <td>2002</td>\n",
              "      <td>Middletown</td>\n",
              "      <td>M</td>\n",
              "      <td>18</td>\n",
              "    </tr>\n",
              "    <tr>\n",
              "      <th>4</th>\n",
              "      <td>2542664</td>\n",
              "      <td>3M</td>\n",
              "      <td>7</td>\n",
              "      <td>12/6/2018 12:26</td>\n",
              "      <td>50.0</td>\n",
              "      <td>5</td>\n",
              "      <td>2</td>\n",
              "      <td>1990</td>\n",
              "      <td>Weehawken</td>\n",
              "      <td>M</td>\n",
              "      <td>30</td>\n",
              "    </tr>\n",
              "  </tbody>\n",
              "</table>\n",
              "</div>"
            ],
            "text/plain": [
              "   user_id product  intervals  ...     location  gender  age\n",
              "0  1236805     12M          1  ...  Los Angeles       M   23\n",
              "1  2836384      6M          1  ...     New York       M   28\n",
              "2  5118289      3M          3  ...    Rockville       F   30\n",
              "3  2497066      3M          5  ...   Middletown       M   18\n",
              "4  2542664      3M          7  ...    Weehawken       M   30\n",
              "\n",
              "[5 rows x 11 columns]"
            ]
          },
          "metadata": {
            "tags": []
          },
          "execution_count": 47
        }
      ]
    },
    {
      "cell_type": "code",
      "metadata": {
        "id": "gSaUaF_c48kA",
        "colab_type": "code",
        "outputId": "6a6ecba6-f636-4250-faa8-30f2b24fa54d",
        "colab": {
          "base_uri": "https://localhost:8080/",
          "height": 1000
        }
      },
      "source": [
        "user_location = user.groupby('location')[['user_id']].count()\n",
        "user_location.sort_values('user_id', ascending=False)"
      ],
      "execution_count": 0,
      "outputs": [
        {
          "output_type": "execute_result",
          "data": {
            "text/html": [
              "<div>\n",
              "<style scoped>\n",
              "    .dataframe tbody tr th:only-of-type {\n",
              "        vertical-align: middle;\n",
              "    }\n",
              "\n",
              "    .dataframe tbody tr th {\n",
              "        vertical-align: top;\n",
              "    }\n",
              "\n",
              "    .dataframe thead th {\n",
              "        text-align: right;\n",
              "    }\n",
              "</style>\n",
              "<table border=\"1\" class=\"dataframe\">\n",
              "  <thead>\n",
              "    <tr style=\"text-align: right;\">\n",
              "      <th></th>\n",
              "      <th>user_id</th>\n",
              "    </tr>\n",
              "    <tr>\n",
              "      <th>location</th>\n",
              "      <th></th>\n",
              "    </tr>\n",
              "  </thead>\n",
              "  <tbody>\n",
              "    <tr>\n",
              "      <th>Philadelphia</th>\n",
              "      <td>4247</td>\n",
              "    </tr>\n",
              "    <tr>\n",
              "      <th>New York</th>\n",
              "      <td>4158</td>\n",
              "    </tr>\n",
              "    <tr>\n",
              "      <th>Charleston</th>\n",
              "      <td>3420</td>\n",
              "    </tr>\n",
              "    <tr>\n",
              "      <th>Los Angeles</th>\n",
              "      <td>2732</td>\n",
              "    </tr>\n",
              "    <tr>\n",
              "      <th>East Granby</th>\n",
              "      <td>2652</td>\n",
              "    </tr>\n",
              "    <tr>\n",
              "      <th>Columbus</th>\n",
              "      <td>1935</td>\n",
              "    </tr>\n",
              "    <tr>\n",
              "      <th>Weirton</th>\n",
              "      <td>1558</td>\n",
              "    </tr>\n",
              "    <tr>\n",
              "      <th>Clifton Park</th>\n",
              "      <td>1528</td>\n",
              "    </tr>\n",
              "    <tr>\n",
              "      <th>White Plains</th>\n",
              "      <td>1404</td>\n",
              "    </tr>\n",
              "    <tr>\n",
              "      <th>Lawrence Township</th>\n",
              "      <td>1364</td>\n",
              "    </tr>\n",
              "    <tr>\n",
              "      <th>Pittsburgh</th>\n",
              "      <td>1151</td>\n",
              "    </tr>\n",
              "    <tr>\n",
              "      <th>Rockville</th>\n",
              "      <td>1143</td>\n",
              "    </tr>\n",
              "    <tr>\n",
              "      <th>Denver</th>\n",
              "      <td>1113</td>\n",
              "    </tr>\n",
              "    <tr>\n",
              "      <th>Vernon Rockville</th>\n",
              "      <td>1091</td>\n",
              "    </tr>\n",
              "    <tr>\n",
              "      <th>Houston</th>\n",
              "      <td>1042</td>\n",
              "    </tr>\n",
              "    <tr>\n",
              "      <th>Indianapolis</th>\n",
              "      <td>1007</td>\n",
              "    </tr>\n",
              "    <tr>\n",
              "      <th>Louisville</th>\n",
              "      <td>1003</td>\n",
              "    </tr>\n",
              "    <tr>\n",
              "      <th>Phoenix</th>\n",
              "      <td>1002</td>\n",
              "    </tr>\n",
              "    <tr>\n",
              "      <th>Rochester</th>\n",
              "      <td>991</td>\n",
              "    </tr>\n",
              "    <tr>\n",
              "      <th>Bartow</th>\n",
              "      <td>978</td>\n",
              "    </tr>\n",
              "    <tr>\n",
              "      <th>Cockeysville</th>\n",
              "      <td>975</td>\n",
              "    </tr>\n",
              "    <tr>\n",
              "      <th>Middletown</th>\n",
              "      <td>967</td>\n",
              "    </tr>\n",
              "    <tr>\n",
              "      <th>Wyckoff</th>\n",
              "      <td>950</td>\n",
              "    </tr>\n",
              "    <tr>\n",
              "      <th>Ocala</th>\n",
              "      <td>907</td>\n",
              "    </tr>\n",
              "    <tr>\n",
              "      <th>Greensboro</th>\n",
              "      <td>903</td>\n",
              "    </tr>\n",
              "    <tr>\n",
              "      <th>Arcadia</th>\n",
              "      <td>872</td>\n",
              "    </tr>\n",
              "    <tr>\n",
              "      <th>Fairfield</th>\n",
              "      <td>866</td>\n",
              "    </tr>\n",
              "    <tr>\n",
              "      <th>Abington</th>\n",
              "      <td>844</td>\n",
              "    </tr>\n",
              "    <tr>\n",
              "      <th>Lake Forest</th>\n",
              "      <td>837</td>\n",
              "    </tr>\n",
              "    <tr>\n",
              "      <th>Voorhees</th>\n",
              "      <td>833</td>\n",
              "    </tr>\n",
              "    <tr>\n",
              "      <th>Clearwater</th>\n",
              "      <td>833</td>\n",
              "    </tr>\n",
              "    <tr>\n",
              "      <th>Colorado Springs</th>\n",
              "      <td>831</td>\n",
              "    </tr>\n",
              "    <tr>\n",
              "      <th>Yucaipa</th>\n",
              "      <td>820</td>\n",
              "    </tr>\n",
              "    <tr>\n",
              "      <th>Weehawken</th>\n",
              "      <td>772</td>\n",
              "    </tr>\n",
              "    <tr>\n",
              "      <th>Peoria Heights</th>\n",
              "      <td>760</td>\n",
              "    </tr>\n",
              "    <tr>\n",
              "      <th>Windsor Mill</th>\n",
              "      <td>759</td>\n",
              "    </tr>\n",
              "    <tr>\n",
              "      <th>Seattle</th>\n",
              "      <td>736</td>\n",
              "    </tr>\n",
              "  </tbody>\n",
              "</table>\n",
              "</div>"
            ],
            "text/plain": [
              "                   user_id\n",
              "location                  \n",
              "Philadelphia          4247\n",
              "New York              4158\n",
              "Charleston            3420\n",
              "Los Angeles           2732\n",
              "East Granby           2652\n",
              "Columbus              1935\n",
              "Weirton               1558\n",
              "Clifton Park          1528\n",
              "White Plains          1404\n",
              "Lawrence Township     1364\n",
              "Pittsburgh            1151\n",
              "Rockville             1143\n",
              "Denver                1113\n",
              "Vernon Rockville      1091\n",
              "Houston               1042\n",
              "Indianapolis          1007\n",
              "Louisville            1003\n",
              "Phoenix               1002\n",
              "Rochester              991\n",
              "Bartow                 978\n",
              "Cockeysville           975\n",
              "Middletown             967\n",
              "Wyckoff                950\n",
              "Ocala                  907\n",
              "Greensboro             903\n",
              "Arcadia                872\n",
              "Fairfield              866\n",
              "Abington               844\n",
              "Lake Forest            837\n",
              "Voorhees               833\n",
              "Clearwater             833\n",
              "Colorado Springs       831\n",
              "Yucaipa                820\n",
              "Weehawken              772\n",
              "Peoria Heights         760\n",
              "Windsor Mill           759\n",
              "Seattle                736"
            ]
          },
          "metadata": {
            "tags": []
          },
          "execution_count": 48
        }
      ]
    },
    {
      "cell_type": "code",
      "metadata": {
        "id": "okfJy2kt0ykQ",
        "colab_type": "code",
        "outputId": "8d572219-a7fa-4f4d-bc7e-f92b4b1e4091",
        "colab": {
          "base_uri": "https://localhost:8080/",
          "height": 428
        }
      },
      "source": [
        "#LOCATION BASED CUSTOMER AGE INFO\n",
        "user_product.groupby(['location','gender']).agg(['min','max','mean','median','std'])['age'].head(12)"
      ],
      "execution_count": 0,
      "outputs": [
        {
          "output_type": "execute_result",
          "data": {
            "text/html": [
              "<div>\n",
              "<style scoped>\n",
              "    .dataframe tbody tr th:only-of-type {\n",
              "        vertical-align: middle;\n",
              "    }\n",
              "\n",
              "    .dataframe tbody tr th {\n",
              "        vertical-align: top;\n",
              "    }\n",
              "\n",
              "    .dataframe thead th {\n",
              "        text-align: right;\n",
              "    }\n",
              "</style>\n",
              "<table border=\"1\" class=\"dataframe\">\n",
              "  <thead>\n",
              "    <tr style=\"text-align: right;\">\n",
              "      <th></th>\n",
              "      <th></th>\n",
              "      <th>min</th>\n",
              "      <th>max</th>\n",
              "      <th>mean</th>\n",
              "      <th>median</th>\n",
              "      <th>std</th>\n",
              "    </tr>\n",
              "    <tr>\n",
              "      <th>location</th>\n",
              "      <th>gender</th>\n",
              "      <th></th>\n",
              "      <th></th>\n",
              "      <th></th>\n",
              "      <th></th>\n",
              "      <th></th>\n",
              "    </tr>\n",
              "  </thead>\n",
              "  <tbody>\n",
              "    <tr>\n",
              "      <th rowspan=\"2\" valign=\"top\">Abington</th>\n",
              "      <th>F</th>\n",
              "      <td>19</td>\n",
              "      <td>70</td>\n",
              "      <td>35.435754</td>\n",
              "      <td>34.0</td>\n",
              "      <td>10.682342</td>\n",
              "    </tr>\n",
              "    <tr>\n",
              "      <th>M</th>\n",
              "      <td>17</td>\n",
              "      <td>75</td>\n",
              "      <td>36.368585</td>\n",
              "      <td>34.0</td>\n",
              "      <td>11.979581</td>\n",
              "    </tr>\n",
              "    <tr>\n",
              "      <th rowspan=\"2\" valign=\"top\">Arcadia</th>\n",
              "      <th>F</th>\n",
              "      <td>17</td>\n",
              "      <td>73</td>\n",
              "      <td>37.260606</td>\n",
              "      <td>34.0</td>\n",
              "      <td>12.546935</td>\n",
              "    </tr>\n",
              "    <tr>\n",
              "      <th>M</th>\n",
              "      <td>17</td>\n",
              "      <td>75</td>\n",
              "      <td>35.664731</td>\n",
              "      <td>33.0</td>\n",
              "      <td>12.167649</td>\n",
              "    </tr>\n",
              "    <tr>\n",
              "      <th rowspan=\"2\" valign=\"top\">Bartow</th>\n",
              "      <th>F</th>\n",
              "      <td>17</td>\n",
              "      <td>73</td>\n",
              "      <td>34.664948</td>\n",
              "      <td>31.5</td>\n",
              "      <td>11.530815</td>\n",
              "    </tr>\n",
              "    <tr>\n",
              "      <th>M</th>\n",
              "      <td>17</td>\n",
              "      <td>74</td>\n",
              "      <td>35.551948</td>\n",
              "      <td>33.0</td>\n",
              "      <td>11.878581</td>\n",
              "    </tr>\n",
              "    <tr>\n",
              "      <th rowspan=\"2\" valign=\"top\">Charleston</th>\n",
              "      <th>F</th>\n",
              "      <td>17</td>\n",
              "      <td>75</td>\n",
              "      <td>36.079545</td>\n",
              "      <td>33.0</td>\n",
              "      <td>12.311483</td>\n",
              "    </tr>\n",
              "    <tr>\n",
              "      <th>M</th>\n",
              "      <td>17</td>\n",
              "      <td>75</td>\n",
              "      <td>35.282477</td>\n",
              "      <td>33.0</td>\n",
              "      <td>11.548271</td>\n",
              "    </tr>\n",
              "    <tr>\n",
              "      <th rowspan=\"2\" valign=\"top\">Clearwater</th>\n",
              "      <th>F</th>\n",
              "      <td>17</td>\n",
              "      <td>74</td>\n",
              "      <td>34.877193</td>\n",
              "      <td>33.0</td>\n",
              "      <td>11.277364</td>\n",
              "    </tr>\n",
              "    <tr>\n",
              "      <th>M</th>\n",
              "      <td>17</td>\n",
              "      <td>74</td>\n",
              "      <td>35.731595</td>\n",
              "      <td>34.0</td>\n",
              "      <td>11.685591</td>\n",
              "    </tr>\n",
              "    <tr>\n",
              "      <th rowspan=\"2\" valign=\"top\">Clifton Park</th>\n",
              "      <th>F</th>\n",
              "      <td>20</td>\n",
              "      <td>75</td>\n",
              "      <td>35.035256</td>\n",
              "      <td>33.0</td>\n",
              "      <td>10.453482</td>\n",
              "    </tr>\n",
              "    <tr>\n",
              "      <th>M</th>\n",
              "      <td>17</td>\n",
              "      <td>75</td>\n",
              "      <td>35.335570</td>\n",
              "      <td>33.0</td>\n",
              "      <td>11.604154</td>\n",
              "    </tr>\n",
              "  </tbody>\n",
              "</table>\n",
              "</div>"
            ],
            "text/plain": [
              "                     min  max       mean  median        std\n",
              "location     gender                                        \n",
              "Abington     F        19   70  35.435754    34.0  10.682342\n",
              "             M        17   75  36.368585    34.0  11.979581\n",
              "Arcadia      F        17   73  37.260606    34.0  12.546935\n",
              "             M        17   75  35.664731    33.0  12.167649\n",
              "Bartow       F        17   73  34.664948    31.5  11.530815\n",
              "             M        17   74  35.551948    33.0  11.878581\n",
              "Charleston   F        17   75  36.079545    33.0  12.311483\n",
              "             M        17   75  35.282477    33.0  11.548271\n",
              "Clearwater   F        17   74  34.877193    33.0  11.277364\n",
              "             M        17   74  35.731595    34.0  11.685591\n",
              "Clifton Park F        20   75  35.035256    33.0  10.453482\n",
              "             M        17   75  35.335570    33.0  11.604154"
            ]
          },
          "metadata": {
            "tags": []
          },
          "execution_count": 49
        }
      ]
    },
    {
      "cell_type": "code",
      "metadata": {
        "id": "7WMWB4otJ373",
        "colab_type": "code",
        "outputId": "8ba44579-d0d8-4ac5-c6bb-34e9921fa8c2",
        "colab": {
          "base_uri": "https://localhost:8080/",
          "height": 519
        }
      },
      "source": [
        "#LOCATION_GENDER BASED CUSTOMER INFO\n",
        "plt=user_product.groupby(['location','gender']).count()['user_id'].unstack().plot.bar(grid=False, figsize=(20,6));\n",
        "plt.set_xlabel('Locations',size=20);plt.set_ylabel('Count',size=18);\n",
        "plt.set_title(\"Location-Gender based customer info\",size=22);"
      ],
      "execution_count": 0,
      "outputs": [
        {
          "output_type": "display_data",
          "data": {
            "image/png": "[encoded data removed]",
            "text/plain": [
              "<Figure size 1440x432 with 1 Axes>"
            ]
          },
          "metadata": {
            "tags": []
          }
        }
      ]
    },
    {
      "cell_type": "code",
      "metadata": {
        "id": "5ftj-0AHTqOO",
        "colab_type": "code",
        "outputId": "11da2134-c6d8-4a76-aa8d-8a3534dda7e1",
        "colab": {
          "base_uri": "https://localhost:8080/",
          "height": 340
        }
      },
      "source": [
        "#PRODUCT-AGE BASED CUSTOMER GROUP\n",
        "user_product.groupby(['product','gender']).agg(['min','max','mean','median','count'])[['age']]"
      ],
      "execution_count": 0,
      "outputs": [
        {
          "output_type": "execute_result",
          "data": {
            "text/html": [
              "<div>\n",
              "<style scoped>\n",
              "    .dataframe tbody tr th:only-of-type {\n",
              "        vertical-align: middle;\n",
              "    }\n",
              "\n",
              "    .dataframe tbody tr th {\n",
              "        vertical-align: top;\n",
              "    }\n",
              "\n",
              "    .dataframe thead tr th {\n",
              "        text-align: left;\n",
              "    }\n",
              "\n",
              "    .dataframe thead tr:last-of-type th {\n",
              "        text-align: right;\n",
              "    }\n",
              "</style>\n",
              "<table border=\"1\" class=\"dataframe\">\n",
              "  <thead>\n",
              "    <tr>\n",
              "      <th></th>\n",
              "      <th></th>\n",
              "      <th colspan=\"5\" halign=\"left\">age</th>\n",
              "    </tr>\n",
              "    <tr>\n",
              "      <th></th>\n",
              "      <th></th>\n",
              "      <th>min</th>\n",
              "      <th>max</th>\n",
              "      <th>mean</th>\n",
              "      <th>median</th>\n",
              "      <th>count</th>\n",
              "    </tr>\n",
              "    <tr>\n",
              "      <th>product</th>\n",
              "      <th>gender</th>\n",
              "      <th></th>\n",
              "      <th></th>\n",
              "      <th></th>\n",
              "      <th></th>\n",
              "      <th></th>\n",
              "    </tr>\n",
              "  </thead>\n",
              "  <tbody>\n",
              "    <tr>\n",
              "      <th rowspan=\"2\" valign=\"top\">12M</th>\n",
              "      <th>F</th>\n",
              "      <td>17</td>\n",
              "      <td>75</td>\n",
              "      <td>35.782379</td>\n",
              "      <td>33</td>\n",
              "      <td>3405</td>\n",
              "    </tr>\n",
              "    <tr>\n",
              "      <th>M</th>\n",
              "      <td>17</td>\n",
              "      <td>75</td>\n",
              "      <td>35.645794</td>\n",
              "      <td>33</td>\n",
              "      <td>13255</td>\n",
              "    </tr>\n",
              "    <tr>\n",
              "      <th rowspan=\"2\" valign=\"top\">1M</th>\n",
              "      <th>F</th>\n",
              "      <td>17</td>\n",
              "      <td>75</td>\n",
              "      <td>35.620926</td>\n",
              "      <td>33</td>\n",
              "      <td>1166</td>\n",
              "    </tr>\n",
              "    <tr>\n",
              "      <th>M</th>\n",
              "      <td>17</td>\n",
              "      <td>75</td>\n",
              "      <td>35.869159</td>\n",
              "      <td>33</td>\n",
              "      <td>4708</td>\n",
              "    </tr>\n",
              "    <tr>\n",
              "      <th rowspan=\"2\" valign=\"top\">3M</th>\n",
              "      <th>F</th>\n",
              "      <td>17</td>\n",
              "      <td>75</td>\n",
              "      <td>35.758712</td>\n",
              "      <td>33</td>\n",
              "      <td>3788</td>\n",
              "    </tr>\n",
              "    <tr>\n",
              "      <th>M</th>\n",
              "      <td>17</td>\n",
              "      <td>75</td>\n",
              "      <td>35.516224</td>\n",
              "      <td>33</td>\n",
              "      <td>14916</td>\n",
              "    </tr>\n",
              "    <tr>\n",
              "      <th rowspan=\"2\" valign=\"top\">6M</th>\n",
              "      <th>F</th>\n",
              "      <td>17</td>\n",
              "      <td>75</td>\n",
              "      <td>35.762723</td>\n",
              "      <td>33</td>\n",
              "      <td>1572</td>\n",
              "    </tr>\n",
              "    <tr>\n",
              "      <th>M</th>\n",
              "      <td>17</td>\n",
              "      <td>75</td>\n",
              "      <td>35.568325</td>\n",
              "      <td>33</td>\n",
              "      <td>6169</td>\n",
              "    </tr>\n",
              "  </tbody>\n",
              "</table>\n",
              "</div>"
            ],
            "text/plain": [
              "               age                             \n",
              "               min max       mean median  count\n",
              "product gender                                 \n",
              "12M     F       17  75  35.782379     33   3405\n",
              "        M       17  75  35.645794     33  13255\n",
              "1M      F       17  75  35.620926     33   1166\n",
              "        M       17  75  35.869159     33   4708\n",
              "3M      F       17  75  35.758712     33   3788\n",
              "        M       17  75  35.516224     33  14916\n",
              "6M      F       17  75  35.762723     33   1572\n",
              "        M       17  75  35.568325     33   6169"
            ]
          },
          "metadata": {
            "tags": []
          },
          "execution_count": 51
        }
      ]
    },
    {
      "cell_type": "code",
      "metadata": {
        "id": "N93GFemKeThH",
        "colab_type": "code",
        "outputId": "39dae7d0-f418-4975-ec8f-1a73d15a816c",
        "colab": {
          "base_uri": "https://localhost:8080/",
          "height": 489
        }
      },
      "source": [
        "plt=user_product.groupby(['product','gender']).count()[['user_id']].unstack().plot.bar(grid=False, figsize=(10,7));\n",
        "plt.set_xlabel('Product Subscription',size=20);plt.set_ylabel('Count',size=18);\n",
        "plt.set_title(\"Product-Gender based customer info\",size=22);"
      ],
      "execution_count": 0,
      "outputs": [
        {
          "output_type": "display_data",
          "data": {
            "image/png": "[encoded data removed]",
            "text/plain": [
              "<Figure size 720x504 with 1 Axes>"
            ]
          },
          "metadata": {
            "tags": []
          }
        }
      ]
    },
    {
      "cell_type": "code",
      "metadata": {
        "id": "5BGb6jlV8y2m",
        "colab_type": "code",
        "colab": {}
      },
      "source": [
        ""
      ],
      "execution_count": 0,
      "outputs": []
    },
    {
      "cell_type": "markdown",
      "metadata": {
        "id": "wZIn81lF8OAK",
        "colab_type": "text"
      },
      "source": [
        "**Question 2**\n",
        "\n",
        "**Where and what are we selling the most? (locations, products)**"
      ]
    },
    {
      "cell_type": "code",
      "metadata": {
        "id": "WQu3T7TMfbk_",
        "colab_type": "code",
        "outputId": "c28c73cc-894e-4f08-8804-8085321a6171",
        "colab": {
          "base_uri": "https://localhost:8080/",
          "height": 194
        }
      },
      "source": [
        "user_product = product.merge(user, on = 'user_id' , how='left')\n",
        "user_product.head() "
      ],
      "execution_count": 0,
      "outputs": [
        {
          "output_type": "execute_result",
          "data": {
            "text/html": [
              "<div>\n",
              "<style scoped>\n",
              "    .dataframe tbody tr th:only-of-type {\n",
              "        vertical-align: middle;\n",
              "    }\n",
              "\n",
              "    .dataframe tbody tr th {\n",
              "        vertical-align: top;\n",
              "    }\n",
              "\n",
              "    .dataframe thead th {\n",
              "        text-align: right;\n",
              "    }\n",
              "</style>\n",
              "<table border=\"1\" class=\"dataframe\">\n",
              "  <thead>\n",
              "    <tr style=\"text-align: right;\">\n",
              "      <th></th>\n",
              "      <th>user_id</th>\n",
              "      <th>product</th>\n",
              "      <th>intervals</th>\n",
              "      <th>purchase_date</th>\n",
              "      <th>voucher</th>\n",
              "      <th>birth_day</th>\n",
              "      <th>birth_month</th>\n",
              "      <th>birth_year</th>\n",
              "      <th>location</th>\n",
              "      <th>gender</th>\n",
              "      <th>age</th>\n",
              "    </tr>\n",
              "  </thead>\n",
              "  <tbody>\n",
              "    <tr>\n",
              "      <th>0</th>\n",
              "      <td>1236805</td>\n",
              "      <td>12M</td>\n",
              "      <td>1</td>\n",
              "      <td>11/7/2018 13:22</td>\n",
              "      <td>50.0</td>\n",
              "      <td>26</td>\n",
              "      <td>2</td>\n",
              "      <td>1997</td>\n",
              "      <td>Los Angeles</td>\n",
              "      <td>M</td>\n",
              "      <td>23</td>\n",
              "    </tr>\n",
              "    <tr>\n",
              "      <th>1</th>\n",
              "      <td>2836384</td>\n",
              "      <td>6M</td>\n",
              "      <td>1</td>\n",
              "      <td>5/12/2018 11:29</td>\n",
              "      <td>NaN</td>\n",
              "      <td>13</td>\n",
              "      <td>2</td>\n",
              "      <td>1992</td>\n",
              "      <td>New York</td>\n",
              "      <td>M</td>\n",
              "      <td>28</td>\n",
              "    </tr>\n",
              "    <tr>\n",
              "      <th>2</th>\n",
              "      <td>5118289</td>\n",
              "      <td>3M</td>\n",
              "      <td>3</td>\n",
              "      <td>5/31/2018 12:50</td>\n",
              "      <td>NaN</td>\n",
              "      <td>28</td>\n",
              "      <td>2</td>\n",
              "      <td>1990</td>\n",
              "      <td>Rockville</td>\n",
              "      <td>F</td>\n",
              "      <td>30</td>\n",
              "    </tr>\n",
              "    <tr>\n",
              "      <th>3</th>\n",
              "      <td>2497066</td>\n",
              "      <td>3M</td>\n",
              "      <td>5</td>\n",
              "      <td>11/16/2018 15:58</td>\n",
              "      <td>NaN</td>\n",
              "      <td>12</td>\n",
              "      <td>2</td>\n",
              "      <td>2002</td>\n",
              "      <td>Middletown</td>\n",
              "      <td>M</td>\n",
              "      <td>18</td>\n",
              "    </tr>\n",
              "    <tr>\n",
              "      <th>4</th>\n",
              "      <td>2542664</td>\n",
              "      <td>3M</td>\n",
              "      <td>7</td>\n",
              "      <td>12/6/2018 12:26</td>\n",
              "      <td>50.0</td>\n",
              "      <td>5</td>\n",
              "      <td>2</td>\n",
              "      <td>1990</td>\n",
              "      <td>Weehawken</td>\n",
              "      <td>M</td>\n",
              "      <td>30</td>\n",
              "    </tr>\n",
              "  </tbody>\n",
              "</table>\n",
              "</div>"
            ],
            "text/plain": [
              "   user_id product  intervals  ...     location  gender  age\n",
              "0  1236805     12M          1  ...  Los Angeles       M   23\n",
              "1  2836384      6M          1  ...     New York       M   28\n",
              "2  5118289      3M          3  ...    Rockville       F   30\n",
              "3  2497066      3M          5  ...   Middletown       M   18\n",
              "4  2542664      3M          7  ...    Weehawken       M   30\n",
              "\n",
              "[5 rows x 11 columns]"
            ]
          },
          "metadata": {
            "tags": []
          },
          "execution_count": 53
        }
      ]
    },
    {
      "cell_type": "markdown",
      "metadata": {
        "id": "OjwNJ-bf1uSD",
        "colab_type": "text"
      },
      "source": [
        "**Where are we selling the most**\n",
        "\n",
        "---\n",
        "\n"
      ]
    },
    {
      "cell_type": "markdown",
      "metadata": {
        "id": "R6CdOnn3-Jf8",
        "colab_type": "text"
      },
      "source": [
        "*Major sales is in Philadelphia, followed by NY and Charleston*"
      ]
    },
    {
      "cell_type": "code",
      "metadata": {
        "id": "bMfItFIy1m4E",
        "colab_type": "code",
        "outputId": "63a39158-532d-4777-b0f0-4bb23ce68e79",
        "colab": {
          "base_uri": "https://localhost:8080/",
          "height": 522
        }
      },
      "source": [
        "sale_location=user_product.groupby('location')['user_id'].count().plot.bar(grid=False, figsize=(18,6))\n",
        "sale_location.set_title(\"Location based sale\",size=25);\n",
        "sale_location.set_xlabel('Locations',size=20);sale_location.set_ylabel('Sales',size=20);"
      ],
      "execution_count": 0,
      "outputs": [
        {
          "output_type": "display_data",
          "data": {
            "image/png": "[encoded data removed]",
            "text/plain": [
              "<Figure size 1296x432 with 1 Axes>"
            ]
          },
          "metadata": {
            "tags": []
          }
        }
      ]
    },
    {
      "cell_type": "code",
      "metadata": {
        "id": "uquuZt7I-bcA",
        "colab_type": "code",
        "colab": {}
      },
      "source": [
        ""
      ],
      "execution_count": 0,
      "outputs": []
    },
    {
      "cell_type": "markdown",
      "metadata": {
        "id": "7D7LNnbT128z",
        "colab_type": "text"
      },
      "source": [
        "**What are we selling the most**\n",
        "\n",
        "---\n",
        "\n"
      ]
    },
    {
      "cell_type": "markdown",
      "metadata": {
        "id": "w-_XOsDV-e0z",
        "colab_type": "text"
      },
      "source": [
        "*Customers are going mainly for 3 month subscription plan followed by yearly deal*"
      ]
    },
    {
      "cell_type": "code",
      "metadata": {
        "id": "DhBKd0lz2DLt",
        "colab_type": "code",
        "outputId": "a52722b5-61a4-4e3e-91a6-f5ab835e4a27",
        "colab": {
          "base_uri": "https://localhost:8080/",
          "height": 438
        }
      },
      "source": [
        "sale_product=user_product.groupby('product')['user_id'].count().plot.bar(grid=False, figsize=(6,6), color='dimgrey')\n",
        "sale_product.set_title(\"Product based sale\",size=25);\n",
        "sale_product.set_xlabel('Product',size=20);sale_product.set_ylabel('Sales',size=20);"
      ],
      "execution_count": 0,
      "outputs": [
        {
          "output_type": "display_data",
          "data": {
            "image/png": "[encoded data removed]",
            "text/plain": [
              "<Figure size 432x432 with 1 Axes>"
            ]
          },
          "metadata": {
            "tags": []
          }
        }
      ]
    },
    {
      "cell_type": "code",
      "metadata": {
        "id": "8to2Cgig-wu8",
        "colab_type": "code",
        "colab": {}
      },
      "source": [
        ""
      ],
      "execution_count": 0,
      "outputs": []
    },
    {
      "cell_type": "markdown",
      "metadata": {
        "id": "qxnc2hm12JHD",
        "colab_type": "text"
      },
      "source": [
        "**Where and What**\n",
        "\n",
        "\n",
        "---\n",
        "\n",
        "\n",
        "We are having the **most** sales in **Philadelphia** of **3 Month subscription plan**"
      ]
    },
    {
      "cell_type": "code",
      "metadata": {
        "id": "9SxokmJo2bpt",
        "colab_type": "code",
        "outputId": "bfa5c169-9798-4f48-d83c-94ba32ff00a8",
        "colab": {
          "base_uri": "https://localhost:8080/",
          "height": 70
        }
      },
      "source": [
        "location_product=user_product.groupby(['location','product']).count()['user_id']\n",
        "location_product[location_product==location_product.max()]"
      ],
      "execution_count": 0,
      "outputs": [
        {
          "output_type": "execute_result",
          "data": {
            "text/plain": [
              "location      product\n",
              "Philadelphia  3M         1662\n",
              "Name: user_id, dtype: int64"
            ]
          },
          "metadata": {
            "tags": []
          },
          "execution_count": 56
        }
      ]
    },
    {
      "cell_type": "markdown",
      "metadata": {
        "id": "PdJcSiPFiGab",
        "colab_type": "text"
      },
      "source": [
        "We are having the **least** sales in **Seattle** where people are only going for **1 Month subscription**"
      ]
    },
    {
      "cell_type": "code",
      "metadata": {
        "id": "3_cLVEt62sXW",
        "colab_type": "code",
        "outputId": "b7f2a5f6-57db-4a2c-852d-71427d6a24cc",
        "colab": {
          "base_uri": "https://localhost:8080/",
          "height": 70
        }
      },
      "source": [
        "location_product[location_product==location_product.min()]"
      ],
      "execution_count": 0,
      "outputs": [
        {
          "output_type": "execute_result",
          "data": {
            "text/plain": [
              "location  product\n",
              "Seattle   1M         86\n",
              "Name: user_id, dtype: int64"
            ]
          },
          "metadata": {
            "tags": []
          },
          "execution_count": 57
        }
      ]
    },
    {
      "cell_type": "code",
      "metadata": {
        "id": "-iMeEayZ_PG1",
        "colab_type": "code",
        "colab": {}
      },
      "source": [
        ""
      ],
      "execution_count": 0,
      "outputs": []
    },
    {
      "cell_type": "markdown",
      "metadata": {
        "id": "kKANmKlUBxDS",
        "colab_type": "text"
      },
      "source": [
        "**Question 3**\n",
        "\n",
        "**Can you identify some reading patterns?** **(times a day, days a week, how many** **times a user goes back to an article, most liked/read articles)**\n"
      ]
    },
    {
      "cell_type": "code",
      "metadata": {
        "id": "_wf3qw8Yj-xl",
        "colab_type": "code",
        "outputId": "cd0c5e40-e6c3-4ab3-8b35-134ebff6522b",
        "colab": {
          "base_uri": "https://localhost:8080/",
          "height": 194
        }
      },
      "source": [
        "user_article.head()"
      ],
      "execution_count": 0,
      "outputs": [
        {
          "output_type": "execute_result",
          "data": {
            "text/html": [
              "<div>\n",
              "<style scoped>\n",
              "    .dataframe tbody tr th:only-of-type {\n",
              "        vertical-align: middle;\n",
              "    }\n",
              "\n",
              "    .dataframe tbody tr th {\n",
              "        vertical-align: top;\n",
              "    }\n",
              "\n",
              "    .dataframe thead th {\n",
              "        text-align: right;\n",
              "    }\n",
              "</style>\n",
              "<table border=\"1\" class=\"dataframe\">\n",
              "  <thead>\n",
              "    <tr style=\"text-align: right;\">\n",
              "      <th></th>\n",
              "      <th>datetime</th>\n",
              "      <th>liked</th>\n",
              "      <th>user_id</th>\n",
              "      <th>article_info</th>\n",
              "    </tr>\n",
              "  </thead>\n",
              "  <tbody>\n",
              "    <tr>\n",
              "      <th>0</th>\n",
              "      <td>2018-11-19 7:1</td>\n",
              "      <td>1</td>\n",
              "      <td>744391</td>\n",
              "      <td>[5, 51898, 9]</td>\n",
              "    </tr>\n",
              "    <tr>\n",
              "      <th>1</th>\n",
              "      <td>2018-9-25 13:54</td>\n",
              "      <td>1</td>\n",
              "      <td>3069240</td>\n",
              "      <td>[5, 52508, 18]</td>\n",
              "    </tr>\n",
              "    <tr>\n",
              "      <th>2</th>\n",
              "      <td>2018-9-15 7:58</td>\n",
              "      <td>1</td>\n",
              "      <td>4176029</td>\n",
              "      <td>[2, 28993, 21]</td>\n",
              "    </tr>\n",
              "    <tr>\n",
              "      <th>3</th>\n",
              "      <td>2018-9-19 18:4</td>\n",
              "      <td>1</td>\n",
              "      <td>2051762</td>\n",
              "      <td>[3, 36094, 17]</td>\n",
              "    </tr>\n",
              "    <tr>\n",
              "      <th>4</th>\n",
              "      <td>2018-10-14 18:39</td>\n",
              "      <td>1</td>\n",
              "      <td>2265406</td>\n",
              "      <td>[5, 51798, 19]</td>\n",
              "    </tr>\n",
              "  </tbody>\n",
              "</table>\n",
              "</div>"
            ],
            "text/plain": [
              "           datetime  liked  user_id    article_info\n",
              "0    2018-11-19 7:1      1   744391   [5, 51898, 9]\n",
              "1   2018-9-25 13:54      1  3069240  [5, 52508, 18]\n",
              "2    2018-9-15 7:58      1  4176029  [2, 28993, 21]\n",
              "3    2018-9-19 18:4      1  2051762  [3, 36094, 17]\n",
              "4  2018-10-14 18:39      1  2265406  [5, 51798, 19]"
            ]
          },
          "metadata": {
            "tags": []
          },
          "execution_count": 58
        }
      ]
    },
    {
      "cell_type": "code",
      "metadata": {
        "id": "zpJEPeQ8tc33",
        "colab_type": "code",
        "outputId": "7462d03f-a62e-416c-9ff1-d65cf383243a",
        "colab": {
          "base_uri": "https://localhost:8080/",
          "height": 194
        }
      },
      "source": [
        "#Extract article_info from user_article Data Frame \n",
        "article_info = user_article.article_info.str.extract('\\[(.*?),(.*?),(.*?)\\]').astype(str).astype(int) #converted to int for plot\n",
        "article_info.columns = ['article_cat','article_id','time_spent']\n",
        "article_info.head()"
      ],
      "execution_count": 0,
      "outputs": [
        {
          "output_type": "execute_result",
          "data": {
            "text/html": [
              "<div>\n",
              "<style scoped>\n",
              "    .dataframe tbody tr th:only-of-type {\n",
              "        vertical-align: middle;\n",
              "    }\n",
              "\n",
              "    .dataframe tbody tr th {\n",
              "        vertical-align: top;\n",
              "    }\n",
              "\n",
              "    .dataframe thead th {\n",
              "        text-align: right;\n",
              "    }\n",
              "</style>\n",
              "<table border=\"1\" class=\"dataframe\">\n",
              "  <thead>\n",
              "    <tr style=\"text-align: right;\">\n",
              "      <th></th>\n",
              "      <th>article_cat</th>\n",
              "      <th>article_id</th>\n",
              "      <th>time_spent</th>\n",
              "    </tr>\n",
              "  </thead>\n",
              "  <tbody>\n",
              "    <tr>\n",
              "      <th>0</th>\n",
              "      <td>5</td>\n",
              "      <td>51898</td>\n",
              "      <td>9</td>\n",
              "    </tr>\n",
              "    <tr>\n",
              "      <th>1</th>\n",
              "      <td>5</td>\n",
              "      <td>52508</td>\n",
              "      <td>18</td>\n",
              "    </tr>\n",
              "    <tr>\n",
              "      <th>2</th>\n",
              "      <td>2</td>\n",
              "      <td>28993</td>\n",
              "      <td>21</td>\n",
              "    </tr>\n",
              "    <tr>\n",
              "      <th>3</th>\n",
              "      <td>3</td>\n",
              "      <td>36094</td>\n",
              "      <td>17</td>\n",
              "    </tr>\n",
              "    <tr>\n",
              "      <th>4</th>\n",
              "      <td>5</td>\n",
              "      <td>51798</td>\n",
              "      <td>19</td>\n",
              "    </tr>\n",
              "  </tbody>\n",
              "</table>\n",
              "</div>"
            ],
            "text/plain": [
              "   article_cat  article_id  time_spent\n",
              "0            5       51898           9\n",
              "1            5       52508          18\n",
              "2            2       28993          21\n",
              "3            3       36094          17\n",
              "4            5       51798          19"
            ]
          },
          "metadata": {
            "tags": []
          },
          "execution_count": 59
        }
      ]
    },
    {
      "cell_type": "code",
      "metadata": {
        "id": "JL9R3o0TuyQu",
        "colab_type": "code",
        "outputId": "72333fe5-7014-4a0b-90dd-cbb98edccc15",
        "colab": {
          "base_uri": "https://localhost:8080/",
          "height": 223
        }
      },
      "source": [
        "read_pattern = pd.concat([user_article , article_info] , axis = 1)\n",
        "read_pattern=read_pattern.drop('article_info', axis=1)\n",
        "read_pattern.head(6)"
      ],
      "execution_count": 0,
      "outputs": [
        {
          "output_type": "execute_result",
          "data": {
            "text/html": [
              "<div>\n",
              "<style scoped>\n",
              "    .dataframe tbody tr th:only-of-type {\n",
              "        vertical-align: middle;\n",
              "    }\n",
              "\n",
              "    .dataframe tbody tr th {\n",
              "        vertical-align: top;\n",
              "    }\n",
              "\n",
              "    .dataframe thead th {\n",
              "        text-align: right;\n",
              "    }\n",
              "</style>\n",
              "<table border=\"1\" class=\"dataframe\">\n",
              "  <thead>\n",
              "    <tr style=\"text-align: right;\">\n",
              "      <th></th>\n",
              "      <th>datetime</th>\n",
              "      <th>liked</th>\n",
              "      <th>user_id</th>\n",
              "      <th>article_cat</th>\n",
              "      <th>article_id</th>\n",
              "      <th>time_spent</th>\n",
              "    </tr>\n",
              "  </thead>\n",
              "  <tbody>\n",
              "    <tr>\n",
              "      <th>0</th>\n",
              "      <td>2018-11-19 7:1</td>\n",
              "      <td>1</td>\n",
              "      <td>744391</td>\n",
              "      <td>5</td>\n",
              "      <td>51898</td>\n",
              "      <td>9</td>\n",
              "    </tr>\n",
              "    <tr>\n",
              "      <th>1</th>\n",
              "      <td>2018-9-25 13:54</td>\n",
              "      <td>1</td>\n",
              "      <td>3069240</td>\n",
              "      <td>5</td>\n",
              "      <td>52508</td>\n",
              "      <td>18</td>\n",
              "    </tr>\n",
              "    <tr>\n",
              "      <th>2</th>\n",
              "      <td>2018-9-15 7:58</td>\n",
              "      <td>1</td>\n",
              "      <td>4176029</td>\n",
              "      <td>2</td>\n",
              "      <td>28993</td>\n",
              "      <td>21</td>\n",
              "    </tr>\n",
              "    <tr>\n",
              "      <th>3</th>\n",
              "      <td>2018-9-19 18:4</td>\n",
              "      <td>1</td>\n",
              "      <td>2051762</td>\n",
              "      <td>3</td>\n",
              "      <td>36094</td>\n",
              "      <td>17</td>\n",
              "    </tr>\n",
              "    <tr>\n",
              "      <th>4</th>\n",
              "      <td>2018-10-14 18:39</td>\n",
              "      <td>1</td>\n",
              "      <td>2265406</td>\n",
              "      <td>5</td>\n",
              "      <td>51798</td>\n",
              "      <td>19</td>\n",
              "    </tr>\n",
              "    <tr>\n",
              "      <th>5</th>\n",
              "      <td>2018-10-18 18:37</td>\n",
              "      <td>1</td>\n",
              "      <td>9676264</td>\n",
              "      <td>6</td>\n",
              "      <td>61355</td>\n",
              "      <td>23</td>\n",
              "    </tr>\n",
              "  </tbody>\n",
              "</table>\n",
              "</div>"
            ],
            "text/plain": [
              "           datetime  liked  user_id  article_cat  article_id  time_spent\n",
              "0    2018-11-19 7:1      1   744391            5       51898           9\n",
              "1   2018-9-25 13:54      1  3069240            5       52508          18\n",
              "2    2018-9-15 7:58      1  4176029            2       28993          21\n",
              "3    2018-9-19 18:4      1  2051762            3       36094          17\n",
              "4  2018-10-14 18:39      1  2265406            5       51798          19\n",
              "5  2018-10-18 18:37      1  9676264            6       61355          23"
            ]
          },
          "metadata": {
            "tags": []
          },
          "execution_count": 60
        }
      ]
    },
    {
      "cell_type": "code",
      "metadata": {
        "id": "gsRVZqrO393C",
        "colab_type": "code",
        "outputId": "73e6d1aa-ec20-4f04-81e9-c753337d74cd",
        "colab": {
          "base_uri": "https://localhost:8080/",
          "height": 421
        }
      },
      "source": [
        "#AVERAGE TIME SPENT ON ARTICLE OF EACH CATEGORY\n",
        "plt.figure(figsize=(6,6));\n",
        "sns.barplot(y ='time_spent', x = 'article_cat' , data = read_pattern);\n",
        "plt.ylim(12,16)\n",
        "plt.title('Average time spent on each article category', fontsize=15, pad= 15, fontweight=\"bold\");\n",
        "plt.xlabel('Article Category', fontsize = 13);\n",
        "plt.ylabel('Time spent (minutes)', fontsize = 13);\n",
        "#plt.suptitle('',x = 0.435,y = 0.93)"
      ],
      "execution_count": 0,
      "outputs": [
        {
          "output_type": "display_data",
          "data": {
            "image/png": "[encoded data removed]",
            "text/plain": [
              "<Figure size 432x432 with 1 Axes>"
            ]
          },
          "metadata": {
            "tags": []
          }
        }
      ]
    },
    {
      "cell_type": "code",
      "metadata": {
        "id": "D188IUTC8HoO",
        "colab_type": "code",
        "outputId": "2498d3ff-2c7b-4e82-829c-cc7a6fceba2a",
        "colab": {
          "base_uri": "https://localhost:8080/",
          "height": 487
        }
      },
      "source": [
        "#MOST LIKED/READ ARTICLES BASED ON THE CATEGORY\n",
        "read_pattern.groupby(['article_cat','liked']).agg(['count'])['user_id']"
      ],
      "execution_count": 0,
      "outputs": [
        {
          "output_type": "execute_result",
          "data": {
            "text/html": [
              "<div>\n",
              "<style scoped>\n",
              "    .dataframe tbody tr th:only-of-type {\n",
              "        vertical-align: middle;\n",
              "    }\n",
              "\n",
              "    .dataframe tbody tr th {\n",
              "        vertical-align: top;\n",
              "    }\n",
              "\n",
              "    .dataframe thead th {\n",
              "        text-align: right;\n",
              "    }\n",
              "</style>\n",
              "<table border=\"1\" class=\"dataframe\">\n",
              "  <thead>\n",
              "    <tr style=\"text-align: right;\">\n",
              "      <th></th>\n",
              "      <th></th>\n",
              "      <th>count</th>\n",
              "    </tr>\n",
              "    <tr>\n",
              "      <th>article_cat</th>\n",
              "      <th>liked</th>\n",
              "      <th></th>\n",
              "    </tr>\n",
              "  </thead>\n",
              "  <tbody>\n",
              "    <tr>\n",
              "      <th rowspan=\"2\" valign=\"top\">1</th>\n",
              "      <th>0</th>\n",
              "      <td>56453</td>\n",
              "    </tr>\n",
              "    <tr>\n",
              "      <th>1</th>\n",
              "      <td>84565</td>\n",
              "    </tr>\n",
              "    <tr>\n",
              "      <th rowspan=\"2\" valign=\"top\">2</th>\n",
              "      <th>0</th>\n",
              "      <td>56122</td>\n",
              "    </tr>\n",
              "    <tr>\n",
              "      <th>1</th>\n",
              "      <td>84751</td>\n",
              "    </tr>\n",
              "    <tr>\n",
              "      <th rowspan=\"2\" valign=\"top\">3</th>\n",
              "      <th>0</th>\n",
              "      <td>56386</td>\n",
              "    </tr>\n",
              "    <tr>\n",
              "      <th>1</th>\n",
              "      <td>84636</td>\n",
              "    </tr>\n",
              "    <tr>\n",
              "      <th rowspan=\"2\" valign=\"top\">4</th>\n",
              "      <th>0</th>\n",
              "      <td>56073</td>\n",
              "    </tr>\n",
              "    <tr>\n",
              "      <th>1</th>\n",
              "      <td>84286</td>\n",
              "    </tr>\n",
              "    <tr>\n",
              "      <th rowspan=\"2\" valign=\"top\">5</th>\n",
              "      <th>0</th>\n",
              "      <td>56244</td>\n",
              "    </tr>\n",
              "    <tr>\n",
              "      <th>1</th>\n",
              "      <td>84050</td>\n",
              "    </tr>\n",
              "    <tr>\n",
              "      <th rowspan=\"2\" valign=\"top\">6</th>\n",
              "      <th>0</th>\n",
              "      <td>55920</td>\n",
              "    </tr>\n",
              "    <tr>\n",
              "      <th>1</th>\n",
              "      <td>84442</td>\n",
              "    </tr>\n",
              "    <tr>\n",
              "      <th rowspan=\"2\" valign=\"top\">7</th>\n",
              "      <th>0</th>\n",
              "      <td>56334</td>\n",
              "    </tr>\n",
              "    <tr>\n",
              "      <th>1</th>\n",
              "      <td>85012</td>\n",
              "    </tr>\n",
              "  </tbody>\n",
              "</table>\n",
              "</div>"
            ],
            "text/plain": [
              "                   count\n",
              "article_cat liked       \n",
              "1           0      56453\n",
              "            1      84565\n",
              "2           0      56122\n",
              "            1      84751\n",
              "3           0      56386\n",
              "            1      84636\n",
              "4           0      56073\n",
              "            1      84286\n",
              "5           0      56244\n",
              "            1      84050\n",
              "6           0      55920\n",
              "            1      84442\n",
              "7           0      56334\n",
              "            1      85012"
            ]
          },
          "metadata": {
            "tags": []
          },
          "execution_count": 64
        }
      ]
    },
    {
      "cell_type": "code",
      "metadata": {
        "id": "QKzhSKKn7reg",
        "colab_type": "code",
        "outputId": "6326d229-5787-466e-a5f8-2e64feb9a07f",
        "colab": {
          "base_uri": "https://localhost:8080/",
          "height": 422
        }
      },
      "source": [
        "#MOST LIKED/READ ARTICLES BASED ON THE CATEGORY\n",
        "most_liked_article=read_pattern.groupby(['article_cat','liked']).agg(['count'])['user_id']\n",
        "plt=most_liked_article.unstack().plot(kind='bar',grid=False, figsize=(8,6));\n",
        "plt.set_ylim(50000,95000);\n",
        "plt.set_title(\"Most Liked articles based on catergory\",size=19, pad= 15, fontweight=\"bold\");\n",
        "plt.set_xlabel('Article Category',size=14);plt.set_ylabel('Like Count',size=14);"
      ],
      "execution_count": 0,
      "outputs": [
        {
          "output_type": "display_data",
          "data": {
            "image/png": "[encoded data removed]",
            "text/plain": [
              "<Figure size 576x432 with 1 Axes>"
            ]
          },
          "metadata": {
            "tags": []
          }
        }
      ]
    },
    {
      "cell_type": "markdown",
      "metadata": {
        "id": "YwSO9TysvdPQ",
        "colab_type": "text"
      },
      "source": [
        "**To find the reading pattern for one particular user : 2265406**\n",
        "\n",
        "---\n",
        "\n"
      ]
    },
    {
      "cell_type": "code",
      "metadata": {
        "id": "kgP8KfQpvmm5",
        "colab_type": "code",
        "outputId": "d1cb3855-3d65-4a49-849d-0ff58b9b893c",
        "colab": {
          "base_uri": "https://localhost:8080/",
          "height": 340
        }
      },
      "source": [
        "specific_user = read_pattern[read_pattern.user_id == 2265406]\n",
        "specific_user.head(10)"
      ],
      "execution_count": 0,
      "outputs": [
        {
          "output_type": "execute_result",
          "data": {
            "text/html": [
              "<div>\n",
              "<style scoped>\n",
              "    .dataframe tbody tr th:only-of-type {\n",
              "        vertical-align: middle;\n",
              "    }\n",
              "\n",
              "    .dataframe tbody tr th {\n",
              "        vertical-align: top;\n",
              "    }\n",
              "\n",
              "    .dataframe thead th {\n",
              "        text-align: right;\n",
              "    }\n",
              "</style>\n",
              "<table border=\"1\" class=\"dataframe\">\n",
              "  <thead>\n",
              "    <tr style=\"text-align: right;\">\n",
              "      <th></th>\n",
              "      <th>datetime</th>\n",
              "      <th>liked</th>\n",
              "      <th>user_id</th>\n",
              "      <th>article_cat</th>\n",
              "      <th>article_id</th>\n",
              "      <th>time_spent</th>\n",
              "    </tr>\n",
              "  </thead>\n",
              "  <tbody>\n",
              "    <tr>\n",
              "      <th>4</th>\n",
              "      <td>2018-10-14 18:39</td>\n",
              "      <td>1</td>\n",
              "      <td>2265406</td>\n",
              "      <td>5</td>\n",
              "      <td>51798</td>\n",
              "      <td>19</td>\n",
              "    </tr>\n",
              "    <tr>\n",
              "      <th>50619</th>\n",
              "      <td>2018-11-21 3:32</td>\n",
              "      <td>1</td>\n",
              "      <td>2265406</td>\n",
              "      <td>3</td>\n",
              "      <td>36754</td>\n",
              "      <td>8</td>\n",
              "    </tr>\n",
              "    <tr>\n",
              "      <th>51283</th>\n",
              "      <td>2018-11-23 23:19</td>\n",
              "      <td>0</td>\n",
              "      <td>2265406</td>\n",
              "      <td>3</td>\n",
              "      <td>36294</td>\n",
              "      <td>18</td>\n",
              "    </tr>\n",
              "    <tr>\n",
              "      <th>100271</th>\n",
              "      <td>2018-10-30 20:11</td>\n",
              "      <td>0</td>\n",
              "      <td>2265406</td>\n",
              "      <td>3</td>\n",
              "      <td>37154</td>\n",
              "      <td>15</td>\n",
              "    </tr>\n",
              "    <tr>\n",
              "      <th>109797</th>\n",
              "      <td>2018-9-2 8:45</td>\n",
              "      <td>0</td>\n",
              "      <td>2265406</td>\n",
              "      <td>7</td>\n",
              "      <td>70884</td>\n",
              "      <td>20</td>\n",
              "    </tr>\n",
              "    <tr>\n",
              "      <th>140726</th>\n",
              "      <td>2018-9-16 17:43</td>\n",
              "      <td>1</td>\n",
              "      <td>2265406</td>\n",
              "      <td>5</td>\n",
              "      <td>52008</td>\n",
              "      <td>22</td>\n",
              "    </tr>\n",
              "    <tr>\n",
              "      <th>184621</th>\n",
              "      <td>2018-11-0 14:58</td>\n",
              "      <td>1</td>\n",
              "      <td>2265406</td>\n",
              "      <td>6</td>\n",
              "      <td>60345</td>\n",
              "      <td>17</td>\n",
              "    </tr>\n",
              "    <tr>\n",
              "      <th>215111</th>\n",
              "      <td>2018-10-8 18:20</td>\n",
              "      <td>1</td>\n",
              "      <td>2265406</td>\n",
              "      <td>5</td>\n",
              "      <td>51758</td>\n",
              "      <td>6</td>\n",
              "    </tr>\n",
              "    <tr>\n",
              "      <th>252887</th>\n",
              "      <td>2018-11-16 23:9</td>\n",
              "      <td>0</td>\n",
              "      <td>2265406</td>\n",
              "      <td>1</td>\n",
              "      <td>12517</td>\n",
              "      <td>11</td>\n",
              "    </tr>\n",
              "    <tr>\n",
              "      <th>266381</th>\n",
              "      <td>2018-11-1 19:4</td>\n",
              "      <td>1</td>\n",
              "      <td>2265406</td>\n",
              "      <td>7</td>\n",
              "      <td>70624</td>\n",
              "      <td>21</td>\n",
              "    </tr>\n",
              "  </tbody>\n",
              "</table>\n",
              "</div>"
            ],
            "text/plain": [
              "                datetime  liked  user_id  article_cat  article_id  time_spent\n",
              "4       2018-10-14 18:39      1  2265406            5       51798          19\n",
              "50619    2018-11-21 3:32      1  2265406            3       36754           8\n",
              "51283   2018-11-23 23:19      0  2265406            3       36294          18\n",
              "100271  2018-10-30 20:11      0  2265406            3       37154          15\n",
              "109797     2018-9-2 8:45      0  2265406            7       70884          20\n",
              "140726   2018-9-16 17:43      1  2265406            5       52008          22\n",
              "184621   2018-11-0 14:58      1  2265406            6       60345          17\n",
              "215111   2018-10-8 18:20      1  2265406            5       51758           6\n",
              "252887   2018-11-16 23:9      0  2265406            1       12517          11\n",
              "266381    2018-11-1 19:4      1  2265406            7       70624          21"
            ]
          },
          "metadata": {
            "tags": []
          },
          "execution_count": 66
        }
      ]
    },
    {
      "cell_type": "code",
      "metadata": {
        "id": "f0hBK603iKlH",
        "colab_type": "code",
        "outputId": "dbb705f9-b6a6-4052-af3e-aaaf8b6a424b",
        "colab": {
          "base_uri": "https://localhost:8080/",
          "height": 340
        }
      },
      "source": [
        "date_time_info = specific_user.datetime.str.split(\" \", expand=True)\n",
        "date_time_info.columns = ['date','time']\n",
        "date_time_info.head(10)"
      ],
      "execution_count": 0,
      "outputs": [
        {
          "output_type": "execute_result",
          "data": {
            "text/html": [
              "<div>\n",
              "<style scoped>\n",
              "    .dataframe tbody tr th:only-of-type {\n",
              "        vertical-align: middle;\n",
              "    }\n",
              "\n",
              "    .dataframe tbody tr th {\n",
              "        vertical-align: top;\n",
              "    }\n",
              "\n",
              "    .dataframe thead th {\n",
              "        text-align: right;\n",
              "    }\n",
              "</style>\n",
              "<table border=\"1\" class=\"dataframe\">\n",
              "  <thead>\n",
              "    <tr style=\"text-align: right;\">\n",
              "      <th></th>\n",
              "      <th>date</th>\n",
              "      <th>time</th>\n",
              "    </tr>\n",
              "  </thead>\n",
              "  <tbody>\n",
              "    <tr>\n",
              "      <th>4</th>\n",
              "      <td>2018-10-14</td>\n",
              "      <td>18:39</td>\n",
              "    </tr>\n",
              "    <tr>\n",
              "      <th>50619</th>\n",
              "      <td>2018-11-21</td>\n",
              "      <td>3:32</td>\n",
              "    </tr>\n",
              "    <tr>\n",
              "      <th>51283</th>\n",
              "      <td>2018-11-23</td>\n",
              "      <td>23:19</td>\n",
              "    </tr>\n",
              "    <tr>\n",
              "      <th>100271</th>\n",
              "      <td>2018-10-30</td>\n",
              "      <td>20:11</td>\n",
              "    </tr>\n",
              "    <tr>\n",
              "      <th>109797</th>\n",
              "      <td>2018-9-2</td>\n",
              "      <td>8:45</td>\n",
              "    </tr>\n",
              "    <tr>\n",
              "      <th>140726</th>\n",
              "      <td>2018-9-16</td>\n",
              "      <td>17:43</td>\n",
              "    </tr>\n",
              "    <tr>\n",
              "      <th>184621</th>\n",
              "      <td>2018-11-0</td>\n",
              "      <td>14:58</td>\n",
              "    </tr>\n",
              "    <tr>\n",
              "      <th>215111</th>\n",
              "      <td>2018-10-8</td>\n",
              "      <td>18:20</td>\n",
              "    </tr>\n",
              "    <tr>\n",
              "      <th>252887</th>\n",
              "      <td>2018-11-16</td>\n",
              "      <td>23:9</td>\n",
              "    </tr>\n",
              "    <tr>\n",
              "      <th>266381</th>\n",
              "      <td>2018-11-1</td>\n",
              "      <td>19:4</td>\n",
              "    </tr>\n",
              "  </tbody>\n",
              "</table>\n",
              "</div>"
            ],
            "text/plain": [
              "              date   time\n",
              "4       2018-10-14  18:39\n",
              "50619   2018-11-21   3:32\n",
              "51283   2018-11-23  23:19\n",
              "100271  2018-10-30  20:11\n",
              "109797    2018-9-2   8:45\n",
              "140726   2018-9-16  17:43\n",
              "184621   2018-11-0  14:58\n",
              "215111   2018-10-8  18:20\n",
              "252887  2018-11-16   23:9\n",
              "266381   2018-11-1   19:4"
            ]
          },
          "metadata": {
            "tags": []
          },
          "execution_count": 67
        }
      ]
    },
    {
      "cell_type": "code",
      "metadata": {
        "id": "F75UOVXciC2Y",
        "colab_type": "code",
        "outputId": "a856c127-bf32-4d6b-c9ab-cf481df21d3d",
        "colab": {
          "base_uri": "https://localhost:8080/",
          "height": 340
        }
      },
      "source": [
        "read_pattern_user=pd.concat([specific_user , date_time_info] , axis = 1)\n",
        "read_pattern_user=read_pattern_user.drop('datetime', axis=1)\n",
        "read_pattern_user.head(10)"
      ],
      "execution_count": 0,
      "outputs": [
        {
          "output_type": "execute_result",
          "data": {
            "text/html": [
              "<div>\n",
              "<style scoped>\n",
              "    .dataframe tbody tr th:only-of-type {\n",
              "        vertical-align: middle;\n",
              "    }\n",
              "\n",
              "    .dataframe tbody tr th {\n",
              "        vertical-align: top;\n",
              "    }\n",
              "\n",
              "    .dataframe thead th {\n",
              "        text-align: right;\n",
              "    }\n",
              "</style>\n",
              "<table border=\"1\" class=\"dataframe\">\n",
              "  <thead>\n",
              "    <tr style=\"text-align: right;\">\n",
              "      <th></th>\n",
              "      <th>liked</th>\n",
              "      <th>user_id</th>\n",
              "      <th>article_cat</th>\n",
              "      <th>article_id</th>\n",
              "      <th>time_spent</th>\n",
              "      <th>date</th>\n",
              "      <th>time</th>\n",
              "    </tr>\n",
              "  </thead>\n",
              "  <tbody>\n",
              "    <tr>\n",
              "      <th>4</th>\n",
              "      <td>1</td>\n",
              "      <td>2265406</td>\n",
              "      <td>5</td>\n",
              "      <td>51798</td>\n",
              "      <td>19</td>\n",
              "      <td>2018-10-14</td>\n",
              "      <td>18:39</td>\n",
              "    </tr>\n",
              "    <tr>\n",
              "      <th>50619</th>\n",
              "      <td>1</td>\n",
              "      <td>2265406</td>\n",
              "      <td>3</td>\n",
              "      <td>36754</td>\n",
              "      <td>8</td>\n",
              "      <td>2018-11-21</td>\n",
              "      <td>3:32</td>\n",
              "    </tr>\n",
              "    <tr>\n",
              "      <th>51283</th>\n",
              "      <td>0</td>\n",
              "      <td>2265406</td>\n",
              "      <td>3</td>\n",
              "      <td>36294</td>\n",
              "      <td>18</td>\n",
              "      <td>2018-11-23</td>\n",
              "      <td>23:19</td>\n",
              "    </tr>\n",
              "    <tr>\n",
              "      <th>100271</th>\n",
              "      <td>0</td>\n",
              "      <td>2265406</td>\n",
              "      <td>3</td>\n",
              "      <td>37154</td>\n",
              "      <td>15</td>\n",
              "      <td>2018-10-30</td>\n",
              "      <td>20:11</td>\n",
              "    </tr>\n",
              "    <tr>\n",
              "      <th>109797</th>\n",
              "      <td>0</td>\n",
              "      <td>2265406</td>\n",
              "      <td>7</td>\n",
              "      <td>70884</td>\n",
              "      <td>20</td>\n",
              "      <td>2018-9-2</td>\n",
              "      <td>8:45</td>\n",
              "    </tr>\n",
              "    <tr>\n",
              "      <th>140726</th>\n",
              "      <td>1</td>\n",
              "      <td>2265406</td>\n",
              "      <td>5</td>\n",
              "      <td>52008</td>\n",
              "      <td>22</td>\n",
              "      <td>2018-9-16</td>\n",
              "      <td>17:43</td>\n",
              "    </tr>\n",
              "    <tr>\n",
              "      <th>184621</th>\n",
              "      <td>1</td>\n",
              "      <td>2265406</td>\n",
              "      <td>6</td>\n",
              "      <td>60345</td>\n",
              "      <td>17</td>\n",
              "      <td>2018-11-0</td>\n",
              "      <td>14:58</td>\n",
              "    </tr>\n",
              "    <tr>\n",
              "      <th>215111</th>\n",
              "      <td>1</td>\n",
              "      <td>2265406</td>\n",
              "      <td>5</td>\n",
              "      <td>51758</td>\n",
              "      <td>6</td>\n",
              "      <td>2018-10-8</td>\n",
              "      <td>18:20</td>\n",
              "    </tr>\n",
              "    <tr>\n",
              "      <th>252887</th>\n",
              "      <td>0</td>\n",
              "      <td>2265406</td>\n",
              "      <td>1</td>\n",
              "      <td>12517</td>\n",
              "      <td>11</td>\n",
              "      <td>2018-11-16</td>\n",
              "      <td>23:9</td>\n",
              "    </tr>\n",
              "    <tr>\n",
              "      <th>266381</th>\n",
              "      <td>1</td>\n",
              "      <td>2265406</td>\n",
              "      <td>7</td>\n",
              "      <td>70624</td>\n",
              "      <td>21</td>\n",
              "      <td>2018-11-1</td>\n",
              "      <td>19:4</td>\n",
              "    </tr>\n",
              "  </tbody>\n",
              "</table>\n",
              "</div>"
            ],
            "text/plain": [
              "        liked  user_id  article_cat  article_id  time_spent        date   time\n",
              "4           1  2265406            5       51798          19  2018-10-14  18:39\n",
              "50619       1  2265406            3       36754           8  2018-11-21   3:32\n",
              "51283       0  2265406            3       36294          18  2018-11-23  23:19\n",
              "100271      0  2265406            3       37154          15  2018-10-30  20:11\n",
              "109797      0  2265406            7       70884          20    2018-9-2   8:45\n",
              "140726      1  2265406            5       52008          22   2018-9-16  17:43\n",
              "184621      1  2265406            6       60345          17   2018-11-0  14:58\n",
              "215111      1  2265406            5       51758           6   2018-10-8  18:20\n",
              "252887      0  2265406            1       12517          11  2018-11-16   23:9\n",
              "266381      1  2265406            7       70624          21   2018-11-1   19:4"
            ]
          },
          "metadata": {
            "tags": []
          },
          "execution_count": 68
        }
      ]
    },
    {
      "cell_type": "markdown",
      "metadata": {
        "id": "N4icA1s2iqKC",
        "colab_type": "text"
      },
      "source": [
        "*User 2265406 visits not more than 4 articles on a regular day.*\n",
        "\n",
        "---\n",
        "\n"
      ]
    },
    {
      "cell_type": "code",
      "metadata": {
        "id": "YzJT3BuoiVP9",
        "colab_type": "code",
        "outputId": "1e345d14-2cd7-4d5b-93a3-ccf41f35fa6c",
        "colab": {
          "base_uri": "https://localhost:8080/",
          "height": 550
        }
      },
      "source": [
        "read_pattern_user.groupby(['date']).count()['article_id']"
      ],
      "execution_count": 0,
      "outputs": [
        {
          "output_type": "execute_result",
          "data": {
            "text/plain": [
              "date\n",
              "2018-10-14    1\n",
              "2018-10-2     1\n",
              "2018-10-21    1\n",
              "2018-10-3     2\n",
              "2018-10-30    1\n",
              "2018-10-5     1\n",
              "2018-10-8     4\n",
              "2018-11-0     1\n",
              "2018-11-1     2\n",
              "2018-11-11    2\n",
              "2018-11-12    1\n",
              "2018-11-14    1\n",
              "2018-11-16    1\n",
              "2018-11-21    1\n",
              "2018-11-23    2\n",
              "2018-11-25    1\n",
              "2018-11-28    1\n",
              "2018-11-30    1\n",
              "2018-11-5     1\n",
              "2018-9-10     1\n",
              "2018-9-15     1\n",
              "2018-9-16     2\n",
              "2018-9-2      2\n",
              "2018-9-20     1\n",
              "2018-9-28     1\n",
              "2018-9-30     2\n",
              "2018-9-6      1\n",
              "2018-9-7      1\n",
              "Name: article_id, dtype: int64"
            ]
          },
          "metadata": {
            "tags": []
          },
          "execution_count": 69
        }
      ]
    },
    {
      "cell_type": "markdown",
      "metadata": {
        "id": "xcf27L_djOTL",
        "colab_type": "text"
      },
      "source": [
        "*User 2265406 visited article 52008 twice a week and article 60765 twice a month*\n",
        "\n",
        "---\n",
        "\n"
      ]
    },
    {
      "cell_type": "code",
      "metadata": {
        "id": "p0vPeBH3OqkD",
        "colab_type": "code",
        "outputId": "24244502-cecc-4050-ea07-268667a89a81",
        "colab": {
          "base_uri": "https://localhost:8080/",
          "height": 550
        }
      },
      "source": [
        "read_pattern_user.groupby('date')['time_spent'].sum()"
      ],
      "execution_count": 0,
      "outputs": [
        {
          "output_type": "execute_result",
          "data": {
            "text/plain": [
              "date\n",
              "2018-10-14    19\n",
              "2018-10-2     11\n",
              "2018-10-21    12\n",
              "2018-10-3     34\n",
              "2018-10-30    15\n",
              "2018-10-5      4\n",
              "2018-10-8     39\n",
              "2018-11-0     17\n",
              "2018-11-1     32\n",
              "2018-11-11    31\n",
              "2018-11-12    24\n",
              "2018-11-14    10\n",
              "2018-11-16    11\n",
              "2018-11-21     8\n",
              "2018-11-23    40\n",
              "2018-11-25    15\n",
              "2018-11-28     6\n",
              "2018-11-30    23\n",
              "2018-11-5      5\n",
              "2018-9-10      5\n",
              "2018-9-15     22\n",
              "2018-9-16     43\n",
              "2018-9-2      43\n",
              "2018-9-20     13\n",
              "2018-9-28     17\n",
              "2018-9-30     39\n",
              "2018-9-6      16\n",
              "2018-9-7      19\n",
              "Name: time_spent, dtype: int64"
            ]
          },
          "metadata": {
            "tags": []
          },
          "execution_count": 70
        }
      ]
    },
    {
      "cell_type": "code",
      "metadata": {
        "id": "F4wvTapQieUN",
        "colab_type": "code",
        "outputId": "30cc2a4f-6d1e-47c7-a48a-e08eea082870",
        "colab": {
          "base_uri": "https://localhost:8080/",
          "height": 728
        }
      },
      "source": [
        "read_pattern_user.groupby(['article_id','date']).count()['time']"
      ],
      "execution_count": 0,
      "outputs": [
        {
          "output_type": "execute_result",
          "data": {
            "text/plain": [
              "article_id  date      \n",
              "11937       2018-9-30     1\n",
              "11967       2018-10-21    1\n",
              "12467       2018-11-11    1\n",
              "12517       2018-11-16    1\n",
              "28473       2018-9-10     1\n",
              "28803       2018-10-3     1\n",
              "36124       2018-10-8     1\n",
              "36294       2018-11-23    1\n",
              "36404       2018-11-5     1\n",
              "36754       2018-11-21    1\n",
              "37074       2018-9-28     1\n",
              "37154       2018-10-30    1\n",
              "43182       2018-9-7      1\n",
              "43722       2018-9-20     1\n",
              "51748       2018-11-30    1\n",
              "            2018-9-2      1\n",
              "51758       2018-10-8     1\n",
              "51798       2018-10-14    1\n",
              "52008       2018-9-15     1\n",
              "            2018-9-16     1\n",
              "52248       2018-10-8     1\n",
              "52518       2018-11-28    1\n",
              "60345       2018-11-0     1\n",
              "60405       2018-9-16     1\n",
              "60625       2018-10-3     1\n",
              "60765       2018-9-30     1\n",
              "            2018-9-6      1\n",
              "60905       2018-10-5     1\n",
              "61215       2018-10-2     1\n",
              "61275       2018-11-11    1\n",
              "70184       2018-11-25    1\n",
              "70384       2018-10-8     1\n",
              "70444       2018-11-14    1\n",
              "70624       2018-11-1     1\n",
              "70884       2018-9-2      1\n",
              "70984       2018-11-23    1\n",
              "70994       2018-11-1     1\n",
              "71324       2018-11-12    1\n",
              "Name: time, dtype: int64"
            ]
          },
          "metadata": {
            "tags": []
          },
          "execution_count": 73
        }
      ]
    },
    {
      "cell_type": "code",
      "metadata": {
        "id": "6CZfH9_UieCN",
        "colab_type": "code",
        "colab": {}
      },
      "source": [
        ""
      ],
      "execution_count": 0,
      "outputs": []
    },
    {
      "cell_type": "markdown",
      "metadata": {
        "id": "k0UgmF18FIZ1",
        "colab_type": "text"
      },
      "source": [
        "**Question 4**\n",
        "\n",
        "What is the correlation between article reading length - liked - times read? \n"
      ]
    },
    {
      "cell_type": "code",
      "metadata": {
        "id": "Sb0ktP5hCKm4",
        "colab_type": "code",
        "colab": {}
      },
      "source": [
        "import datetime"
      ],
      "execution_count": 0,
      "outputs": []
    },
    {
      "cell_type": "code",
      "metadata": {
        "id": "OzChuyuxwBYi",
        "colab_type": "code",
        "outputId": "9359e997-3ade-403c-caec-eddff60b435b",
        "colab": {
          "base_uri": "https://localhost:8080/",
          "height": 230
        }
      },
      "source": [
        "read_pattern['datetime'] = pd.to_datetime(read_pattern['datetime'] , errors = 'coerce')\n",
        "read_pattern['datetime']"
      ],
      "execution_count": 0,
      "outputs": [
        {
          "output_type": "execute_result",
          "data": {
            "text/plain": [
              "0        2018-11-19 07:01:00\n",
              "1        2018-09-25 13:54:00\n",
              "2        2018-09-15 07:58:00\n",
              "3        2018-09-19 18:04:00\n",
              "4        2018-10-14 18:39:00\n",
              "                 ...        \n",
              "985269   2018-11-04 11:41:00\n",
              "985270   2018-09-28 08:15:00\n",
              "985271   2018-09-10 12:13:00\n",
              "985272   2018-11-12 09:23:00\n",
              "985273   2018-11-19 09:31:00\n",
              "Name: datetime, Length: 985274, dtype: datetime64[ns]"
            ]
          },
          "metadata": {
            "tags": []
          },
          "execution_count": 79
        }
      ]
    },
    {
      "cell_type": "code",
      "metadata": {
        "id": "NCJwojOxL5wZ",
        "colab_type": "code",
        "outputId": "554d8e20-4efb-4e07-a8e2-aa770adac541",
        "colab": {
          "base_uri": "https://localhost:8080/",
          "height": 399
        }
      },
      "source": [
        "read_pattern['hour'] = read_pattern.datetime.dt.hour\n",
        "read_pattern['day'] = read_pattern.datetime.dt.day_name()\n",
        "read_pattern['month'] = read_pattern.datetime.dt.month_name()\n",
        "read_pattern['year'] = read_pattern.datetime.dt.year\n",
        "read_pattern"
      ],
      "execution_count": 0,
      "outputs": [
        {
          "output_type": "execute_result",
          "data": {
            "text/html": [
              "<div>\n",
              "<style scoped>\n",
              "    .dataframe tbody tr th:only-of-type {\n",
              "        vertical-align: middle;\n",
              "    }\n",
              "\n",
              "    .dataframe tbody tr th {\n",
              "        vertical-align: top;\n",
              "    }\n",
              "\n",
              "    .dataframe thead th {\n",
              "        text-align: right;\n",
              "    }\n",
              "</style>\n",
              "<table border=\"1\" class=\"dataframe\">\n",
              "  <thead>\n",
              "    <tr style=\"text-align: right;\">\n",
              "      <th></th>\n",
              "      <th>datetime</th>\n",
              "      <th>liked</th>\n",
              "      <th>user_id</th>\n",
              "      <th>article_cat</th>\n",
              "      <th>article_id</th>\n",
              "      <th>time_spent</th>\n",
              "      <th>hour</th>\n",
              "      <th>day</th>\n",
              "      <th>month</th>\n",
              "      <th>year</th>\n",
              "    </tr>\n",
              "  </thead>\n",
              "  <tbody>\n",
              "    <tr>\n",
              "      <th>0</th>\n",
              "      <td>2018-11-19 07:01:00</td>\n",
              "      <td>1</td>\n",
              "      <td>744391</td>\n",
              "      <td>5</td>\n",
              "      <td>51898</td>\n",
              "      <td>9</td>\n",
              "      <td>7.0</td>\n",
              "      <td>Monday</td>\n",
              "      <td>November</td>\n",
              "      <td>2018.0</td>\n",
              "    </tr>\n",
              "    <tr>\n",
              "      <th>1</th>\n",
              "      <td>2018-09-25 13:54:00</td>\n",
              "      <td>1</td>\n",
              "      <td>3069240</td>\n",
              "      <td>5</td>\n",
              "      <td>52508</td>\n",
              "      <td>18</td>\n",
              "      <td>13.0</td>\n",
              "      <td>Tuesday</td>\n",
              "      <td>September</td>\n",
              "      <td>2018.0</td>\n",
              "    </tr>\n",
              "    <tr>\n",
              "      <th>2</th>\n",
              "      <td>2018-09-15 07:58:00</td>\n",
              "      <td>1</td>\n",
              "      <td>4176029</td>\n",
              "      <td>2</td>\n",
              "      <td>28993</td>\n",
              "      <td>21</td>\n",
              "      <td>7.0</td>\n",
              "      <td>Saturday</td>\n",
              "      <td>September</td>\n",
              "      <td>2018.0</td>\n",
              "    </tr>\n",
              "    <tr>\n",
              "      <th>3</th>\n",
              "      <td>2018-09-19 18:04:00</td>\n",
              "      <td>1</td>\n",
              "      <td>2051762</td>\n",
              "      <td>3</td>\n",
              "      <td>36094</td>\n",
              "      <td>17</td>\n",
              "      <td>18.0</td>\n",
              "      <td>Wednesday</td>\n",
              "      <td>September</td>\n",
              "      <td>2018.0</td>\n",
              "    </tr>\n",
              "    <tr>\n",
              "      <th>4</th>\n",
              "      <td>2018-10-14 18:39:00</td>\n",
              "      <td>1</td>\n",
              "      <td>2265406</td>\n",
              "      <td>5</td>\n",
              "      <td>51798</td>\n",
              "      <td>19</td>\n",
              "      <td>18.0</td>\n",
              "      <td>Sunday</td>\n",
              "      <td>October</td>\n",
              "      <td>2018.0</td>\n",
              "    </tr>\n",
              "    <tr>\n",
              "      <th>...</th>\n",
              "      <td>...</td>\n",
              "      <td>...</td>\n",
              "      <td>...</td>\n",
              "      <td>...</td>\n",
              "      <td>...</td>\n",
              "      <td>...</td>\n",
              "      <td>...</td>\n",
              "      <td>...</td>\n",
              "      <td>...</td>\n",
              "      <td>...</td>\n",
              "    </tr>\n",
              "    <tr>\n",
              "      <th>985269</th>\n",
              "      <td>2018-11-04 11:41:00</td>\n",
              "      <td>0</td>\n",
              "      <td>5813953</td>\n",
              "      <td>1</td>\n",
              "      <td>12547</td>\n",
              "      <td>23</td>\n",
              "      <td>11.0</td>\n",
              "      <td>Sunday</td>\n",
              "      <td>November</td>\n",
              "      <td>2018.0</td>\n",
              "    </tr>\n",
              "    <tr>\n",
              "      <th>985270</th>\n",
              "      <td>2018-09-28 08:15:00</td>\n",
              "      <td>0</td>\n",
              "      <td>6046526</td>\n",
              "      <td>5</td>\n",
              "      <td>52378</td>\n",
              "      <td>7</td>\n",
              "      <td>8.0</td>\n",
              "      <td>Friday</td>\n",
              "      <td>September</td>\n",
              "      <td>2018.0</td>\n",
              "    </tr>\n",
              "    <tr>\n",
              "      <th>985271</th>\n",
              "      <td>2018-09-10 12:13:00</td>\n",
              "      <td>1</td>\n",
              "      <td>2700470</td>\n",
              "      <td>1</td>\n",
              "      <td>12077</td>\n",
              "      <td>11</td>\n",
              "      <td>12.0</td>\n",
              "      <td>Monday</td>\n",
              "      <td>September</td>\n",
              "      <td>2018.0</td>\n",
              "    </tr>\n",
              "    <tr>\n",
              "      <th>985272</th>\n",
              "      <td>2018-11-12 09:23:00</td>\n",
              "      <td>0</td>\n",
              "      <td>6453154</td>\n",
              "      <td>3</td>\n",
              "      <td>36664</td>\n",
              "      <td>4</td>\n",
              "      <td>9.0</td>\n",
              "      <td>Monday</td>\n",
              "      <td>November</td>\n",
              "      <td>2018.0</td>\n",
              "    </tr>\n",
              "    <tr>\n",
              "      <th>985273</th>\n",
              "      <td>2018-11-19 09:31:00</td>\n",
              "      <td>1</td>\n",
              "      <td>4452693</td>\n",
              "      <td>4</td>\n",
              "      <td>42882</td>\n",
              "      <td>17</td>\n",
              "      <td>9.0</td>\n",
              "      <td>Monday</td>\n",
              "      <td>November</td>\n",
              "      <td>2018.0</td>\n",
              "    </tr>\n",
              "  </tbody>\n",
              "</table>\n",
              "<p>985274 rows × 10 columns</p>\n",
              "</div>"
            ],
            "text/plain": [
              "                  datetime  liked  user_id  ...        day      month    year\n",
              "0      2018-11-19 07:01:00      1   744391  ...     Monday   November  2018.0\n",
              "1      2018-09-25 13:54:00      1  3069240  ...    Tuesday  September  2018.0\n",
              "2      2018-09-15 07:58:00      1  4176029  ...   Saturday  September  2018.0\n",
              "3      2018-09-19 18:04:00      1  2051762  ...  Wednesday  September  2018.0\n",
              "4      2018-10-14 18:39:00      1  2265406  ...     Sunday    October  2018.0\n",
              "...                    ...    ...      ...  ...        ...        ...     ...\n",
              "985269 2018-11-04 11:41:00      0  5813953  ...     Sunday   November  2018.0\n",
              "985270 2018-09-28 08:15:00      0  6046526  ...     Friday  September  2018.0\n",
              "985271 2018-09-10 12:13:00      1  2700470  ...     Monday  September  2018.0\n",
              "985272 2018-11-12 09:23:00      0  6453154  ...     Monday   November  2018.0\n",
              "985273 2018-11-19 09:31:00      1  4452693  ...     Monday   November  2018.0\n",
              "\n",
              "[985274 rows x 10 columns]"
            ]
          },
          "metadata": {
            "tags": []
          },
          "execution_count": 80
        }
      ]
    },
    {
      "cell_type": "code",
      "metadata": {
        "id": "T_eln1lVt6UV",
        "colab_type": "code",
        "outputId": "bcbb925c-9d0f-445f-ca25-0da306dac81f",
        "colab": {
          "base_uri": "https://localhost:8080/",
          "height": 177
        }
      },
      "source": [
        "read_pattern.groupby('day')['time_spent'].sum()"
      ],
      "execution_count": 0,
      "outputs": [
        {
          "output_type": "execute_result",
          "data": {
            "text/plain": [
              "day\n",
              "Friday       1840385\n",
              "Monday       1775583\n",
              "Saturday     1810760\n",
              "Sunday       2139999\n",
              "Thursday     2154864\n",
              "Tuesday      1882472\n",
              "Wednesday    2012905\n",
              "Name: time_spent, dtype: int64"
            ]
          },
          "metadata": {
            "tags": []
          },
          "execution_count": 81
        }
      ]
    },
    {
      "cell_type": "code",
      "metadata": {
        "id": "_tyVS5RouBaY",
        "colab_type": "code",
        "outputId": "c7d072f7-5050-456f-d2ee-277c31efd226",
        "colab": {
          "base_uri": "https://localhost:8080/",
          "height": 464
        }
      },
      "source": [
        "read_pattern.groupby('day')['time_spent'].sum().plot.bar(grid= False, figsize=(8,6));\n",
        "plt.title('time spent on week days');\n",
        "plt.ylabel('time_spent');"
      ],
      "execution_count": 0,
      "outputs": [
        {
          "output_type": "display_data",
          "data": {
            "image/png": "[encoded data removed]",
            "text/plain": [
              "<Figure size 576x432 with 1 Axes>"
            ]
          },
          "metadata": {
            "tags": []
          }
        }
      ]
    },
    {
      "cell_type": "code",
      "metadata": {
        "id": "_9ORP0K2R-de",
        "colab_type": "code",
        "outputId": "a6ffc595-1dd0-4cb8-963e-e9cb786b034c",
        "colab": {
          "base_uri": "https://localhost:8080/",
          "height": 479
        }
      },
      "source": [
        "read_pattern.groupby('hour')['time_spent'].sum()"
      ],
      "execution_count": 0,
      "outputs": [
        {
          "output_type": "execute_result",
          "data": {
            "text/plain": [
              "hour\n",
              "0.0      179053\n",
              "1.0       39682\n",
              "2.0      199550\n",
              "3.0       79490\n",
              "4.0      218818\n",
              "5.0      100356\n",
              "6.0      141499\n",
              "7.0     1571648\n",
              "8.0     1823100\n",
              "9.0     1365937\n",
              "10.0     242232\n",
              "11.0     403951\n",
              "12.0     401161\n",
              "13.0     359499\n",
              "14.0     322641\n",
              "15.0     357672\n",
              "16.0     222929\n",
              "17.0     783301\n",
              "18.0    1247784\n",
              "19.0     676841\n",
              "20.0     899469\n",
              "21.0     417619\n",
              "22.0     706374\n",
              "23.0     856362\n",
              "Name: time_spent, dtype: int64"
            ]
          },
          "metadata": {
            "tags": []
          },
          "execution_count": 87
        }
      ]
    },
    {
      "cell_type": "code",
      "metadata": {
        "id": "ACOuEPEvSMik",
        "colab_type": "code",
        "outputId": "ffe03b45-6ecf-466d-8732-d448b43db79b",
        "colab": {
          "base_uri": "https://localhost:8080/",
          "height": 424
        }
      },
      "source": [
        "read_pattern.groupby('hour')['time_spent'].sum().plot.bar(grid = False, figsize=(10,6));\n",
        "plt.title('when users read' );\n",
        "plt.ylabel('time_spent');"
      ],
      "execution_count": 0,
      "outputs": [
        {
          "output_type": "display_data",
          "data": {
            "image/png": "[encoded data removed]",
            "text/plain": [
              "<Figure size 720x432 with 1 Axes>"
            ]
          },
          "metadata": {
            "tags": []
          }
        }
      ]
    },
    {
      "cell_type": "code",
      "metadata": {
        "id": "zam6A2fVS_bb",
        "colab_type": "code",
        "outputId": "6c301800-5f7d-48a8-eb9e-d0bb167062d4",
        "colab": {
          "base_uri": "https://localhost:8080/",
          "height": 428
        }
      },
      "source": [
        "#THE MOST ACTIVE USERS\n",
        "active_users = read_pattern.groupby('user_id')[['time_spent']].sum().sort_values('time_spent' , ascending=False)\n",
        "active_users"
      ],
      "execution_count": 0,
      "outputs": [
        {
          "output_type": "execute_result",
          "data": {
            "text/html": [
              "<div>\n",
              "<style scoped>\n",
              "    .dataframe tbody tr th:only-of-type {\n",
              "        vertical-align: middle;\n",
              "    }\n",
              "\n",
              "    .dataframe tbody tr th {\n",
              "        vertical-align: top;\n",
              "    }\n",
              "\n",
              "    .dataframe thead th {\n",
              "        text-align: right;\n",
              "    }\n",
              "</style>\n",
              "<table border=\"1\" class=\"dataframe\">\n",
              "  <thead>\n",
              "    <tr style=\"text-align: right;\">\n",
              "      <th></th>\n",
              "      <th>time_spent</th>\n",
              "    </tr>\n",
              "    <tr>\n",
              "      <th>user_id</th>\n",
              "      <th></th>\n",
              "    </tr>\n",
              "  </thead>\n",
              "  <tbody>\n",
              "    <tr>\n",
              "      <th>3125436</th>\n",
              "      <td>997</td>\n",
              "    </tr>\n",
              "    <tr>\n",
              "      <th>9641172</th>\n",
              "      <td>954</td>\n",
              "    </tr>\n",
              "    <tr>\n",
              "      <th>3535149</th>\n",
              "      <td>949</td>\n",
              "    </tr>\n",
              "    <tr>\n",
              "      <th>5562041</th>\n",
              "      <td>945</td>\n",
              "    </tr>\n",
              "    <tr>\n",
              "      <th>7862284</th>\n",
              "      <td>939</td>\n",
              "    </tr>\n",
              "    <tr>\n",
              "      <th>...</th>\n",
              "      <td>...</td>\n",
              "    </tr>\n",
              "    <tr>\n",
              "      <th>5112258</th>\n",
              "      <td>236</td>\n",
              "    </tr>\n",
              "    <tr>\n",
              "      <th>6583542</th>\n",
              "      <td>230</td>\n",
              "    </tr>\n",
              "    <tr>\n",
              "      <th>9179552</th>\n",
              "      <td>229</td>\n",
              "    </tr>\n",
              "    <tr>\n",
              "      <th>7860856</th>\n",
              "      <td>217</td>\n",
              "    </tr>\n",
              "    <tr>\n",
              "      <th>8900128</th>\n",
              "      <td>178</td>\n",
              "    </tr>\n",
              "  </tbody>\n",
              "</table>\n",
              "<p>25543 rows × 1 columns</p>\n",
              "</div>"
            ],
            "text/plain": [
              "         time_spent\n",
              "user_id            \n",
              "3125436         997\n",
              "9641172         954\n",
              "3535149         949\n",
              "5562041         945\n",
              "7862284         939\n",
              "...             ...\n",
              "5112258         236\n",
              "6583542         230\n",
              "9179552         229\n",
              "7860856         217\n",
              "8900128         178\n",
              "\n",
              "[25543 rows x 1 columns]"
            ]
          },
          "metadata": {
            "tags": []
          },
          "execution_count": 90
        }
      ]
    },
    {
      "cell_type": "code",
      "metadata": {
        "id": "AowAxaf4UaGm",
        "colab_type": "code",
        "outputId": "a52b1008-54a4-4835-aa98-07975b7a52cc",
        "colab": {
          "base_uri": "https://localhost:8080/",
          "height": 282
        }
      },
      "source": [
        "active_users.describe()"
      ],
      "execution_count": 0,
      "outputs": [
        {
          "output_type": "execute_result",
          "data": {
            "text/html": [
              "<div>\n",
              "<style scoped>\n",
              "    .dataframe tbody tr th:only-of-type {\n",
              "        vertical-align: middle;\n",
              "    }\n",
              "\n",
              "    .dataframe tbody tr th {\n",
              "        vertical-align: top;\n",
              "    }\n",
              "\n",
              "    .dataframe thead th {\n",
              "        text-align: right;\n",
              "    }\n",
              "</style>\n",
              "<table border=\"1\" class=\"dataframe\">\n",
              "  <thead>\n",
              "    <tr style=\"text-align: right;\">\n",
              "      <th></th>\n",
              "      <th>time_spent</th>\n",
              "    </tr>\n",
              "  </thead>\n",
              "  <tbody>\n",
              "    <tr>\n",
              "      <th>count</th>\n",
              "      <td>25543.000000</td>\n",
              "    </tr>\n",
              "    <tr>\n",
              "      <th>mean</th>\n",
              "      <td>549.488901</td>\n",
              "    </tr>\n",
              "    <tr>\n",
              "      <th>std</th>\n",
              "      <td>96.816645</td>\n",
              "    </tr>\n",
              "    <tr>\n",
              "      <th>min</th>\n",
              "      <td>178.000000</td>\n",
              "    </tr>\n",
              "    <tr>\n",
              "      <th>25%</th>\n",
              "      <td>483.000000</td>\n",
              "    </tr>\n",
              "    <tr>\n",
              "      <th>50%</th>\n",
              "      <td>546.000000</td>\n",
              "    </tr>\n",
              "    <tr>\n",
              "      <th>75%</th>\n",
              "      <td>612.000000</td>\n",
              "    </tr>\n",
              "    <tr>\n",
              "      <th>max</th>\n",
              "      <td>997.000000</td>\n",
              "    </tr>\n",
              "  </tbody>\n",
              "</table>\n",
              "</div>"
            ],
            "text/plain": [
              "         time_spent\n",
              "count  25543.000000\n",
              "mean     549.488901\n",
              "std       96.816645\n",
              "min      178.000000\n",
              "25%      483.000000\n",
              "50%      546.000000\n",
              "75%      612.000000\n",
              "max      997.000000"
            ]
          },
          "metadata": {
            "tags": []
          },
          "execution_count": 91
        }
      ]
    },
    {
      "cell_type": "code",
      "metadata": {
        "id": "YTR3ZQr9YY6R",
        "colab_type": "code",
        "colab": {}
      },
      "source": [
        "# Howmany times users read an article\n",
        "read_times = read_pattern.groupby(['article_id','user_id']).size()\n",
        "read_times"
      ],
      "execution_count": 0,
      "outputs": []
    },
    {
      "cell_type": "code",
      "metadata": {
        "id": "WmjiiR9739B9",
        "colab_type": "code",
        "colab": {}
      },
      "source": [
        "plt.figure(figsize = (7,7))\n",
        "sns.distplot(read_times , kde=False);\n",
        "plt.xlabel('times')\n",
        "plt.ylabel('user')\n",
        "plt.title('reading-times distribution rate', fontsize=15, fontweight=\"bold\" );"
      ],
      "execution_count": 0,
      "outputs": []
    },
    {
      "cell_type": "code",
      "metadata": {
        "id": "Kie4b0Es4iVf",
        "colab_type": "code",
        "colab": {}
      },
      "source": [
        ""
      ],
      "execution_count": 0,
      "outputs": []
    },
    {
      "cell_type": "code",
      "metadata": {
        "id": "zazPZR3Irhup",
        "colab_type": "code",
        "colab": {}
      },
      "source": [
        ""
      ],
      "execution_count": 0,
      "outputs": []
    },
    {
      "cell_type": "markdown",
      "metadata": {
        "id": "NqlxHeO7ri-G",
        "colab_type": "text"
      },
      "source": [
        "**BONUS Question\n",
        "Which marketing channels are performing well?**\n",
        "\n",
        "---\n",
        "\n"
      ]
    },
    {
      "cell_type": "code",
      "metadata": {
        "id": "8UxcgpbHrw2t",
        "colab_type": "code",
        "colab": {}
      },
      "source": [
        "marketing_budget_split = {'Criteo':185000,'TV':30000,'Facebook':550000,'Adwords':40000,'Instagram':700000,'Friends Referral Program ':0,'Partner':0}\n",
        "\n",
        "prices = {'1M':12.99,'3M':32.99,'6M':53.99,'12M':83.99}"
      ],
      "execution_count": 0,
      "outputs": []
    },
    {
      "cell_type": "code",
      "metadata": {
        "id": "8XxlmJaQr_EX",
        "colab_type": "code",
        "colab": {}
      },
      "source": [
        "user_trmp= user_attribution.merge(user, on = 'user_id')\n",
        "marketing_info=product.merge(user_trmp, on='user_id')\n",
        "marketing_info=marketing_info.drop(['purchase_date','birth_day','birth_month','birth_year','gender'],axis=1)\n",
        "marketing_info['price']=marketing_info['product'].map(prices)"
      ],
      "execution_count": 0,
      "outputs": []
    },
    {
      "cell_type": "code",
      "metadata": {
        "id": "gpiUsBS_sDsN",
        "colab_type": "code",
        "outputId": "30d15d57-f82d-4530-cc80-9bec03c92d58",
        "colab": {
          "base_uri": "https://localhost:8080/",
          "height": 340
        }
      },
      "source": [
        "marketing_info.head(10)"
      ],
      "execution_count": 0,
      "outputs": [
        {
          "output_type": "execute_result",
          "data": {
            "text/html": [
              "<div>\n",
              "<style scoped>\n",
              "    .dataframe tbody tr th:only-of-type {\n",
              "        vertical-align: middle;\n",
              "    }\n",
              "\n",
              "    .dataframe tbody tr th {\n",
              "        vertical-align: top;\n",
              "    }\n",
              "\n",
              "    .dataframe thead th {\n",
              "        text-align: right;\n",
              "    }\n",
              "</style>\n",
              "<table border=\"1\" class=\"dataframe\">\n",
              "  <thead>\n",
              "    <tr style=\"text-align: right;\">\n",
              "      <th></th>\n",
              "      <th>user_id</th>\n",
              "      <th>product</th>\n",
              "      <th>intervals</th>\n",
              "      <th>voucher</th>\n",
              "      <th>attribution</th>\n",
              "      <th>location</th>\n",
              "      <th>age</th>\n",
              "      <th>price</th>\n",
              "    </tr>\n",
              "  </thead>\n",
              "  <tbody>\n",
              "    <tr>\n",
              "      <th>0</th>\n",
              "      <td>1236805</td>\n",
              "      <td>12M</td>\n",
              "      <td>1</td>\n",
              "      <td>50.0</td>\n",
              "      <td>Instagram</td>\n",
              "      <td>Los Angeles</td>\n",
              "      <td>23</td>\n",
              "      <td>83.99</td>\n",
              "    </tr>\n",
              "    <tr>\n",
              "      <th>1</th>\n",
              "      <td>2836384</td>\n",
              "      <td>6M</td>\n",
              "      <td>1</td>\n",
              "      <td>NaN</td>\n",
              "      <td>Partner</td>\n",
              "      <td>New York</td>\n",
              "      <td>28</td>\n",
              "      <td>53.99</td>\n",
              "    </tr>\n",
              "    <tr>\n",
              "      <th>2</th>\n",
              "      <td>5118289</td>\n",
              "      <td>3M</td>\n",
              "      <td>3</td>\n",
              "      <td>NaN</td>\n",
              "      <td>Partner</td>\n",
              "      <td>Rockville</td>\n",
              "      <td>30</td>\n",
              "      <td>32.99</td>\n",
              "    </tr>\n",
              "    <tr>\n",
              "      <th>3</th>\n",
              "      <td>2497066</td>\n",
              "      <td>3M</td>\n",
              "      <td>5</td>\n",
              "      <td>NaN</td>\n",
              "      <td>Facebook</td>\n",
              "      <td>Middletown</td>\n",
              "      <td>18</td>\n",
              "      <td>32.99</td>\n",
              "    </tr>\n",
              "    <tr>\n",
              "      <th>4</th>\n",
              "      <td>2542664</td>\n",
              "      <td>3M</td>\n",
              "      <td>7</td>\n",
              "      <td>50.0</td>\n",
              "      <td>Facebook</td>\n",
              "      <td>Weehawken</td>\n",
              "      <td>30</td>\n",
              "      <td>32.99</td>\n",
              "    </tr>\n",
              "    <tr>\n",
              "      <th>5</th>\n",
              "      <td>5473034</td>\n",
              "      <td>6M</td>\n",
              "      <td>2</td>\n",
              "      <td>NaN</td>\n",
              "      <td>Friends Referral Program</td>\n",
              "      <td>Louisville</td>\n",
              "      <td>17</td>\n",
              "      <td>53.99</td>\n",
              "    </tr>\n",
              "    <tr>\n",
              "      <th>6</th>\n",
              "      <td>3198797</td>\n",
              "      <td>6M</td>\n",
              "      <td>2</td>\n",
              "      <td>50.0</td>\n",
              "      <td>Instagram</td>\n",
              "      <td>Cockeysville</td>\n",
              "      <td>48</td>\n",
              "      <td>53.99</td>\n",
              "    </tr>\n",
              "    <tr>\n",
              "      <th>7</th>\n",
              "      <td>1323252</td>\n",
              "      <td>12M</td>\n",
              "      <td>1</td>\n",
              "      <td>30.0</td>\n",
              "      <td>Facebook</td>\n",
              "      <td>Ocala</td>\n",
              "      <td>23</td>\n",
              "      <td>83.99</td>\n",
              "    </tr>\n",
              "    <tr>\n",
              "      <th>8</th>\n",
              "      <td>5712034</td>\n",
              "      <td>12M</td>\n",
              "      <td>1</td>\n",
              "      <td>50.0</td>\n",
              "      <td>Facebook</td>\n",
              "      <td>Arcadia</td>\n",
              "      <td>32</td>\n",
              "      <td>83.99</td>\n",
              "    </tr>\n",
              "    <tr>\n",
              "      <th>9</th>\n",
              "      <td>3202767</td>\n",
              "      <td>12M</td>\n",
              "      <td>1</td>\n",
              "      <td>NaN</td>\n",
              "      <td>Facebook</td>\n",
              "      <td>Lake Forest</td>\n",
              "      <td>68</td>\n",
              "      <td>83.99</td>\n",
              "    </tr>\n",
              "  </tbody>\n",
              "</table>\n",
              "</div>"
            ],
            "text/plain": [
              "   user_id product  intervals  ...      location age  price\n",
              "0  1236805     12M          1  ...   Los Angeles  23  83.99\n",
              "1  2836384      6M          1  ...      New York  28  53.99\n",
              "2  5118289      3M          3  ...     Rockville  30  32.99\n",
              "3  2497066      3M          5  ...    Middletown  18  32.99\n",
              "4  2542664      3M          7  ...     Weehawken  30  32.99\n",
              "5  5473034      6M          2  ...    Louisville  17  53.99\n",
              "6  3198797      6M          2  ...  Cockeysville  48  53.99\n",
              "7  1323252     12M          1  ...         Ocala  23  83.99\n",
              "8  5712034     12M          1  ...       Arcadia  32  83.99\n",
              "9  3202767     12M          1  ...   Lake Forest  68  83.99\n",
              "\n",
              "[10 rows x 8 columns]"
            ]
          },
          "metadata": {
            "tags": []
          },
          "execution_count": 95
        }
      ]
    },
    {
      "cell_type": "code",
      "metadata": {
        "id": "o202Vzp7sFaz",
        "colab_type": "code",
        "colab": {}
      },
      "source": [
        "better_channel=marketing_info.groupby(['attribution','product']).agg(['count'])['user_id']"
      ],
      "execution_count": 0,
      "outputs": []
    },
    {
      "cell_type": "code",
      "metadata": {
        "id": "hjjHz4oMkgxy",
        "colab_type": "code",
        "outputId": "28ebfa32-0e94-426c-ce8c-4bbeec2b8722",
        "colab": {
          "base_uri": "https://localhost:8080/",
          "height": 898
        }
      },
      "source": [
        "better_channel"
      ],
      "execution_count": 0,
      "outputs": [
        {
          "output_type": "execute_result",
          "data": {
            "text/html": [
              "<div>\n",
              "<style scoped>\n",
              "    .dataframe tbody tr th:only-of-type {\n",
              "        vertical-align: middle;\n",
              "    }\n",
              "\n",
              "    .dataframe tbody tr th {\n",
              "        vertical-align: top;\n",
              "    }\n",
              "\n",
              "    .dataframe thead th {\n",
              "        text-align: right;\n",
              "    }\n",
              "</style>\n",
              "<table border=\"1\" class=\"dataframe\">\n",
              "  <thead>\n",
              "    <tr style=\"text-align: right;\">\n",
              "      <th></th>\n",
              "      <th></th>\n",
              "      <th>count</th>\n",
              "    </tr>\n",
              "    <tr>\n",
              "      <th>attribution</th>\n",
              "      <th>product</th>\n",
              "      <th></th>\n",
              "    </tr>\n",
              "  </thead>\n",
              "  <tbody>\n",
              "    <tr>\n",
              "      <th rowspan=\"4\" valign=\"top\">Adwords</th>\n",
              "      <th>12M</th>\n",
              "      <td>1992</td>\n",
              "    </tr>\n",
              "    <tr>\n",
              "      <th>1M</th>\n",
              "      <td>718</td>\n",
              "    </tr>\n",
              "    <tr>\n",
              "      <th>3M</th>\n",
              "      <td>2333</td>\n",
              "    </tr>\n",
              "    <tr>\n",
              "      <th>6M</th>\n",
              "      <td>954</td>\n",
              "    </tr>\n",
              "    <tr>\n",
              "      <th rowspan=\"4\" valign=\"top\">Criteo</th>\n",
              "      <th>12M</th>\n",
              "      <td>1551</td>\n",
              "    </tr>\n",
              "    <tr>\n",
              "      <th>1M</th>\n",
              "      <td>531</td>\n",
              "    </tr>\n",
              "    <tr>\n",
              "      <th>3M</th>\n",
              "      <td>1831</td>\n",
              "    </tr>\n",
              "    <tr>\n",
              "      <th>6M</th>\n",
              "      <td>759</td>\n",
              "    </tr>\n",
              "    <tr>\n",
              "      <th rowspan=\"4\" valign=\"top\">Facebook</th>\n",
              "      <th>12M</th>\n",
              "      <td>4962</td>\n",
              "    </tr>\n",
              "    <tr>\n",
              "      <th>1M</th>\n",
              "      <td>1755</td>\n",
              "    </tr>\n",
              "    <tr>\n",
              "      <th>3M</th>\n",
              "      <td>5459</td>\n",
              "    </tr>\n",
              "    <tr>\n",
              "      <th>6M</th>\n",
              "      <td>2224</td>\n",
              "    </tr>\n",
              "    <tr>\n",
              "      <th rowspan=\"4\" valign=\"top\">Friends Referral Program</th>\n",
              "      <th>12M</th>\n",
              "      <td>821</td>\n",
              "    </tr>\n",
              "    <tr>\n",
              "      <th>1M</th>\n",
              "      <td>327</td>\n",
              "    </tr>\n",
              "    <tr>\n",
              "      <th>3M</th>\n",
              "      <td>960</td>\n",
              "    </tr>\n",
              "    <tr>\n",
              "      <th>6M</th>\n",
              "      <td>364</td>\n",
              "    </tr>\n",
              "    <tr>\n",
              "      <th rowspan=\"4\" valign=\"top\">Instagram</th>\n",
              "      <th>12M</th>\n",
              "      <td>5479</td>\n",
              "    </tr>\n",
              "    <tr>\n",
              "      <th>1M</th>\n",
              "      <td>1902</td>\n",
              "    </tr>\n",
              "    <tr>\n",
              "      <th>3M</th>\n",
              "      <td>6031</td>\n",
              "    </tr>\n",
              "    <tr>\n",
              "      <th>6M</th>\n",
              "      <td>2526</td>\n",
              "    </tr>\n",
              "    <tr>\n",
              "      <th rowspan=\"4\" valign=\"top\">Partner</th>\n",
              "      <th>12M</th>\n",
              "      <td>2003</td>\n",
              "    </tr>\n",
              "    <tr>\n",
              "      <th>1M</th>\n",
              "      <td>713</td>\n",
              "    </tr>\n",
              "    <tr>\n",
              "      <th>3M</th>\n",
              "      <td>2260</td>\n",
              "    </tr>\n",
              "    <tr>\n",
              "      <th>6M</th>\n",
              "      <td>966</td>\n",
              "    </tr>\n",
              "    <tr>\n",
              "      <th rowspan=\"4\" valign=\"top\">TV</th>\n",
              "      <th>12M</th>\n",
              "      <td>190</td>\n",
              "    </tr>\n",
              "    <tr>\n",
              "      <th>1M</th>\n",
              "      <td>64</td>\n",
              "    </tr>\n",
              "    <tr>\n",
              "      <th>3M</th>\n",
              "      <td>229</td>\n",
              "    </tr>\n",
              "    <tr>\n",
              "      <th>6M</th>\n",
              "      <td>96</td>\n",
              "    </tr>\n",
              "  </tbody>\n",
              "</table>\n",
              "</div>"
            ],
            "text/plain": [
              "                                  count\n",
              "attribution              product       \n",
              "Adwords                  12M       1992\n",
              "                         1M         718\n",
              "                         3M        2333\n",
              "                         6M         954\n",
              "Criteo                   12M       1551\n",
              "                         1M         531\n",
              "                         3M        1831\n",
              "                         6M         759\n",
              "Facebook                 12M       4962\n",
              "                         1M        1755\n",
              "                         3M        5459\n",
              "                         6M        2224\n",
              "Friends Referral Program 12M        821\n",
              "                         1M         327\n",
              "                         3M         960\n",
              "                         6M         364\n",
              "Instagram                12M       5479\n",
              "                         1M        1902\n",
              "                         3M        6031\n",
              "                         6M        2526\n",
              "Partner                  12M       2003\n",
              "                         1M         713\n",
              "                         3M        2260\n",
              "                         6M         966\n",
              "TV                       12M        190\n",
              "                         1M          64\n",
              "                         3M         229\n",
              "                         6M          96"
            ]
          },
          "metadata": {
            "tags": []
          },
          "execution_count": 99
        }
      ]
    },
    {
      "cell_type": "code",
      "metadata": {
        "id": "W1S2pwuZuMcq",
        "colab_type": "code",
        "outputId": "914c8729-a10a-4be6-cdf6-38732cb2d6f9",
        "colab": {
          "base_uri": "https://localhost:8080/",
          "height": 412
        }
      },
      "source": [
        "marketing_info.groupby(['attribution'])['user_id'].count().plot.bar();"
      ],
      "execution_count": 0,
      "outputs": [
        {
          "output_type": "display_data",
          "data": {
            "image/png": "[encoded data removed]",
            "text/plain": [
              "<Figure size 432x288 with 1 Axes>"
            ]
          },
          "metadata": {
            "tags": []
          }
        }
      ]
    },
    {
      "cell_type": "markdown",
      "metadata": {
        "id": "woArTlY0sS2w",
        "colab_type": "text"
      },
      "source": [
        "*Distribution of channel and products with respect to users*\n",
        "\n",
        "---\n",
        "\n",
        "\n"
      ]
    },
    {
      "cell_type": "code",
      "metadata": {
        "id": "OL1d7cuxsIuN",
        "colab_type": "code",
        "outputId": "ff2438fc-eefa-4571-a084-1d19e6e719e3",
        "colab": {
          "base_uri": "https://localhost:8080/",
          "height": 662
        }
      },
      "source": [
        "plt=better_channel.unstack().plot(kind='bar', figsize=(15,8));\n",
        "plt.set_title(\"Distribution of channels and products with respect to customers\",size=19, pad= 15, fontweight=\"bold\");\n",
        "plt.set_xlabel('Attributed Channels',size=15);plt.set_ylabel('Customers',size=15);"
      ],
      "execution_count": 0,
      "outputs": [
        {
          "output_type": "display_data",
          "data": {
            "image/png": "[encoded data removed]",
            "text/plain": [
              "<Figure size 1080x576 with 1 Axes>"
            ]
          },
          "metadata": {
            "tags": []
          }
        }
      ]
    },
    {
      "cell_type": "code",
      "metadata": {
        "id": "-wqg0B8TsbiJ",
        "colab_type": "code",
        "colab": {}
      },
      "source": [
        ""
      ],
      "execution_count": 0,
      "outputs": []
    },
    {
      "cell_type": "markdown",
      "metadata": {
        "id": "tU55WGgusfh2",
        "colab_type": "text"
      },
      "source": [
        " *CAC==Customer Acquisition Cost \n",
        "\n",
        "for each marketing channel, as the Total cost of Marketing divided by the number of customers attributed to that channel*"
      ]
    },
    {
      "cell_type": "code",
      "metadata": {
        "id": "8j_aCEuBsLDD",
        "colab_type": "code",
        "outputId": "6bcb12e7-0b57-4780-a76a-9bc8776a8224",
        "colab": {
          "base_uri": "https://localhost:8080/",
          "height": 252
        }
      },
      "source": [
        "CAC=pd.DataFrame(marketing_budget_split.items() ,columns=['channel','amount_available'])\n",
        "CAC['user_count']=marketing_info.groupby(['attribution']).count()['user_id'].values\n",
        "CAC['cac']=CAC['amount_available']/CAC['user_count']\n",
        "CAC"
      ],
      "execution_count": 0,
      "outputs": [
        {
          "output_type": "execute_result",
          "data": {
            "text/html": [
              "<div>\n",
              "<style scoped>\n",
              "    .dataframe tbody tr th:only-of-type {\n",
              "        vertical-align: middle;\n",
              "    }\n",
              "\n",
              "    .dataframe tbody tr th {\n",
              "        vertical-align: top;\n",
              "    }\n",
              "\n",
              "    .dataframe thead th {\n",
              "        text-align: right;\n",
              "    }\n",
              "</style>\n",
              "<table border=\"1\" class=\"dataframe\">\n",
              "  <thead>\n",
              "    <tr style=\"text-align: right;\">\n",
              "      <th></th>\n",
              "      <th>channel</th>\n",
              "      <th>amount_available</th>\n",
              "      <th>user_count</th>\n",
              "      <th>cac</th>\n",
              "    </tr>\n",
              "  </thead>\n",
              "  <tbody>\n",
              "    <tr>\n",
              "      <th>0</th>\n",
              "      <td>Criteo</td>\n",
              "      <td>185000</td>\n",
              "      <td>5997</td>\n",
              "      <td>30.848758</td>\n",
              "    </tr>\n",
              "    <tr>\n",
              "      <th>1</th>\n",
              "      <td>TV</td>\n",
              "      <td>30000</td>\n",
              "      <td>4672</td>\n",
              "      <td>6.421233</td>\n",
              "    </tr>\n",
              "    <tr>\n",
              "      <th>2</th>\n",
              "      <td>Facebook</td>\n",
              "      <td>550000</td>\n",
              "      <td>14400</td>\n",
              "      <td>38.194444</td>\n",
              "    </tr>\n",
              "    <tr>\n",
              "      <th>3</th>\n",
              "      <td>Adwords</td>\n",
              "      <td>40000</td>\n",
              "      <td>2472</td>\n",
              "      <td>16.181230</td>\n",
              "    </tr>\n",
              "    <tr>\n",
              "      <th>4</th>\n",
              "      <td>Instagram</td>\n",
              "      <td>700000</td>\n",
              "      <td>15938</td>\n",
              "      <td>43.920191</td>\n",
              "    </tr>\n",
              "    <tr>\n",
              "      <th>5</th>\n",
              "      <td>Friends Referral Program</td>\n",
              "      <td>0</td>\n",
              "      <td>5942</td>\n",
              "      <td>0.000000</td>\n",
              "    </tr>\n",
              "    <tr>\n",
              "      <th>6</th>\n",
              "      <td>Partner</td>\n",
              "      <td>0</td>\n",
              "      <td>579</td>\n",
              "      <td>0.000000</td>\n",
              "    </tr>\n",
              "  </tbody>\n",
              "</table>\n",
              "</div>"
            ],
            "text/plain": [
              "                     channel  amount_available  user_count        cac\n",
              "0                     Criteo            185000        5997  30.848758\n",
              "1                         TV             30000        4672   6.421233\n",
              "2                   Facebook            550000       14400  38.194444\n",
              "3                    Adwords             40000        2472  16.181230\n",
              "4                  Instagram            700000       15938  43.920191\n",
              "5  Friends Referral Program                  0        5942   0.000000\n",
              "6                    Partner                 0         579   0.000000"
            ]
          },
          "metadata": {
            "tags": []
          },
          "execution_count": 105
        }
      ]
    },
    {
      "cell_type": "code",
      "metadata": {
        "id": "h_X-VRMKlu7W",
        "colab_type": "code",
        "colab": {}
      },
      "source": [
        "CAC=CAC.drop([5,6],axis=0)#dropping rows on Refreral and Partner for graph purposes"
      ],
      "execution_count": 0,
      "outputs": []
    },
    {
      "cell_type": "code",
      "metadata": {
        "id": "_3XosNZ6mbgz",
        "colab_type": "code",
        "colab": {}
      },
      "source": [
        "import matplotlib.pyplot as plt;"
      ],
      "execution_count": 0,
      "outputs": []
    },
    {
      "cell_type": "markdown",
      "metadata": {
        "id": "gT1ncIbrlEeZ",
        "colab_type": "text"
      },
      "source": [
        " As per graph Instagram is doing better followed by FB\n",
        "The company seems to have invested more into TV advertisement than Referral Program whenit should be more as Refferal Program is bring more cusomers than TV. \n",
        "The graph shows no info on Partner and Refreaal Program as the info was not available for the budget\n",
        "\n",
        "---\n",
        "\n"
      ]
    },
    {
      "cell_type": "code",
      "metadata": {
        "id": "k_uutO_wsy9w",
        "colab_type": "code",
        "outputId": "d0ef6d55-55a9-4f74-b7fa-5abe0bc70c4f",
        "colab": {
          "base_uri": "https://localhost:8080/",
          "height": 531
        }
      },
      "source": [
        "plt.figure(figsize=(8,8))\n",
        "sns.barplot(y ='cac', x = 'channel' , data = CAC);\n",
        "plt.title('Customer Acquisition Cost', fontsize=15, pad= 15,fontweight=\"bold\");\n",
        "plt.xlabel('Attributed Channels', fontsize = 15);plt.ylabel('CAC', fontsize = 15);"
      ],
      "execution_count": 0,
      "outputs": [
        {
          "output_type": "display_data",
          "data": {
            "image/png": "[encoded data removed]",
            "text/plain": [
              "<Figure size 576x576 with 1 Axes>"
            ]
          },
          "metadata": {
            "tags": []
          }
        }
      ]
    },
    {
      "cell_type": "code",
      "metadata": {
        "id": "4M5PqAoQs7oL",
        "colab_type": "code",
        "outputId": "1b62a68a-97f4-4776-ca23-a360ce276af7",
        "colab": {
          "base_uri": "https://localhost:8080/",
          "height": 31
        }
      },
      "source": [
        "pd.DataFrame()"
      ],
      "execution_count": 0,
      "outputs": [
        {
          "output_type": "execute_result",
          "data": {
            "text/html": [
              "<div>\n",
              "<style scoped>\n",
              "    .dataframe tbody tr th:only-of-type {\n",
              "        vertical-align: middle;\n",
              "    }\n",
              "\n",
              "    .dataframe tbody tr th {\n",
              "        vertical-align: top;\n",
              "    }\n",
              "\n",
              "    .dataframe thead th {\n",
              "        text-align: right;\n",
              "    }\n",
              "</style>\n",
              "<table border=\"1\" class=\"dataframe\">\n",
              "  <thead>\n",
              "    <tr style=\"text-align: right;\">\n",
              "      <th></th>\n",
              "    </tr>\n",
              "  </thead>\n",
              "  <tbody>\n",
              "  </tbody>\n",
              "</table>\n",
              "</div>"
            ],
            "text/plain": [
              "Empty DataFrame\n",
              "Columns: []\n",
              "Index: []"
            ]
          },
          "metadata": {
            "tags": []
          },
          "execution_count": 109
        }
      ]
    },
    {
      "cell_type": "code",
      "metadata": {
        "id": "MrboeSZ0DTPK",
        "colab_type": "code",
        "colab": {}
      },
      "source": [
        ""
      ],
      "execution_count": 0,
      "outputs": []
    }
  ]
}